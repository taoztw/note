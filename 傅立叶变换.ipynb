{
 "cells": [
  {
   "cell_type": "markdown",
   "metadata": {},
   "source": [
    "**弧度**：的单位是rad,你会发现,所有的圆边长和半径的比值都是2π Rad,而π是一个无限不循环的常数,它约等于3.1415926,可以发现弧度和角度是一个对应的关系,如果按角度制而言绕圆一周是360°,弧度制而言,就是2π了\n",
    "\n",
    "**三角函数**：又常常叫正弦函数常用的主要有sin和cos两种,在高中的书本上,常常叫它们正弦函数和余弦函数,但实际在使用中,不管是sin还是cos都常常被统称为正弦函数\n",
    "\n",
    "![1](photo/1.jpg)\n",
    "\n",
    "\n",
    "### 正弦波\n",
    "![2](photo/equation.svg)\n",
    "其中,**A**表示振福,A越大,振福越大. **w**表示角速度,当然,角速度和频率  **f**是对应关系,所以信号处理中常常也用角频率这种俗语来描述 表示相位,sin和cos两个正弦函数的差别其实也仅仅是相位不同**k** 是这个正弦波的偏移,你可以理解为这个波在y轴上如何的上下移动,在信号处理中,这个会被统一到直流分量中(频率为0的波的波幅)\n",
    "\n",
    "> “任何”周期信号都可以用一系列成谐波关系的正弦曲线来表示。\n",
    "\n",
    "![3](photo/11.svg)\n",
    "\n",
    ">将信号分解为正弦函数的累加和，就等于知道了这个信号是由哪些频率的正弦波构成了。还能知道对应频率的波在信号中的能量和相位信息。"
   ]
  },
  {
   "cell_type": "markdown",
   "metadata": {},
   "source": [
    "## 傅立叶变换公式推导"
   ]
  },
  {
   "cell_type": "markdown",
   "metadata": {},
   "source": [
    "**正交性波检波**\n",
    "![和差化积公式](photo/和差化积公式.png)\n",
    "\n",
    "![积分正交](photo/积分正交.png)"
   ]
  },
  {
   "cell_type": "markdown",
   "metadata": {},
   "source": [
    "### 推导过程\n",
    "\n",
    "![3](photo/11.svg)\n",
    "对上面公式进行三角函数的变换：\n",
    "![4](photo/推导1.png)\n",
    "![5](photo/推导2.png)\n",
    "![6](photo/推导3.png)"
   ]
  },
  {
   "cell_type": "markdown",
   "metadata": {},
   "source": [
    "## 拉普拉斯变换"
   ]
  },
  {
   "cell_type": "markdown",
   "metadata": {},
   "source": [
    "![8](photo/拉普拉斯.svg)\n",
    "\n",
    "就是傅里叶变换的公式乘以一个e^(-o)么,也就是增加一个衰减因子，解决增长过快没有上限的函数。"
   ]
  },
  {
   "cell_type": "markdown",
   "metadata": {},
   "source": [
    "## Z变换\n",
    "\n",
    "离散信号的傅立叶变换\n",
    "\n",
    "![Z](photo/Z.png)"
   ]
  },
  {
   "cell_type": "markdown",
   "metadata": {},
   "source": [
    "## 小波变换\n",
    "\n",
    "为了把时间信息带入频域。\n",
    "\n",
    "![](photo/小波.png)"
   ]
  }
 ],
 "metadata": {
  "kernelspec": {
   "display_name": "Python 3",
   "language": "python",
   "name": "python3"
  },
  "language_info": {
   "codemirror_mode": {
    "name": "ipython",
    "version": 3
   },
   "file_extension": ".py",
   "mimetype": "text/x-python",
   "name": "python",
   "nbconvert_exporter": "python",
   "pygments_lexer": "ipython3",
   "version": "3.6.8"
  }
 },
 "nbformat": 4,
 "nbformat_minor": 2
}
