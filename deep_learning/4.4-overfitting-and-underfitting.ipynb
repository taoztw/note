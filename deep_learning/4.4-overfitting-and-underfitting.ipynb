{
 "cells": [
  {
   "cell_type": "code",
   "execution_count": 2,
   "metadata": {},
   "outputs": [
    {
     "data": {
      "text/plain": [
       "'2.2.4'"
      ]
     },
     "execution_count": 2,
     "metadata": {},
     "output_type": "execute_result"
    }
   ],
   "source": [
    "import keras\n",
    "keras.__version__"
   ]
  },
  {
   "cell_type": "markdown",
   "metadata": {},
   "source": [
    "# Overfitting and underfitting\n",
    "\n",
    "This notebook contains the code samples found in Chapter 3, Section 6 of [Deep Learning with Python](https://www.manning.com/books/deep-learning-with-python?a_aid=keras&a_bid=76564dff). Note that the original text features far more content, in particular further explanations and figures: in this notebook, you will only find source code and related comments.\n",
    "\n",
    "----\n",
    "\n",
    "\n",
    "In all the examples we saw in the previous chapter -- movie review sentiment prediction, topic classification, and house price regression -- \n",
    "we could notice that the performance of our model on the held-out validation data would always peak after a few epochs and would then start \n",
    "degrading, i.e. our model would quickly start to _overfit_ to the training data. Overfitting happens in every single machine learning \n",
    "problem. Learning how to deal with overfitting is essential to mastering machine learning.\n",
    "\n",
    "The fundamental issue in machine learning is the tension between optimization and generalization. \"Optimization\" refers to the process of \n",
    "adjusting a model to get the best performance possible on the training data (the \"learning\" in \"machine learning\"), while \"generalization\" \n",
    "refers to how well the trained model would perform on data it has never seen before. The goal of the game is to get good generalization, of \n",
    "course, but you do not control generalization; you can only adjust the model based on its training data.\n",
    "\n",
    "At the beginning of training, optimization and generalization are correlated: the lower your loss on training data, the lower your loss on \n",
    "test data. While this is happening, your model is said to be _under-fit_: there is still progress to be made; the network hasn't yet \n",
    "modeled all relevant patterns in the training data. But after a certain number of iterations on the training data, generalization stops \n",
    "improving, validation metrics stall then start degrading: the model is then starting to over-fit, i.e. is it starting to learn patterns \n",
    "that are specific to the training data but that are misleading or irrelevant when it comes to new data.\n",
    "\n",
    "To prevent a model from learning misleading or irrelevant patterns found in the training data, _the best solution is of course to get \n",
    "more training data_. A model trained on more data will naturally generalize better. When that is no longer possible, the next best solution \n",
    "is to modulate the quantity of information that your model is allowed to store, or to add constraints on what information it is allowed to \n",
    "store. If a network can only afford to memorize a small number of patterns, the optimization process will force it to focus on the most \n",
    "prominent patterns, which have a better chance of generalizing well.\n",
    "\n",
    "The processing of fighting overfitting in this way is called _regularization_. Let's review some of the most common regularization \n",
    "techniques, and let's apply them in practice to improve our movie classification model from  the previous chapter."
   ]
  },
  {
   "cell_type": "markdown",
   "metadata": {},
   "source": [
    "Note: in this notebook we will be using the IMDB test set as our validation set. It doesn't matter in this context.\n",
    "\n",
    "Let's prepare the data using the code from Chapter 3, Section 5:"
   ]
  },
  {
   "cell_type": "code",
   "execution_count": 3,
   "metadata": {},
   "outputs": [],
   "source": [
    "from keras.datasets import imdb\n",
    "import numpy as np\n",
    "\n",
    "(train_data, train_labels), (test_data, test_labels) = imdb.load_data(num_words=10000)\n",
    "\n",
    "def vectorize_sequences(sequences, dimension=10000):\n",
    "    # Create an all-zero matrix of shape (len(sequences), dimension)\n",
    "    results = np.zeros((len(sequences), dimension))\n",
    "    for i, sequence in enumerate(sequences):\n",
    "        results[i, sequence] = 1.  # set specific indices of results[i] to 1s\n",
    "    return results\n",
    "\n",
    "# Our vectorized training data\n",
    "x_train = vectorize_sequences(train_data)\n",
    "# Our vectorized test data\n",
    "x_test = vectorize_sequences(test_data)\n",
    "# Our vectorized labels\n",
    "y_train = np.asarray(train_labels).astype('float32')\n",
    "y_test = np.asarray(test_labels).astype('float32')"
   ]
  },
  {
   "cell_type": "markdown",
   "metadata": {},
   "source": [
    "# Fighting overfitting\n",
    "\n",
    "## Reducing the network's size\n",
    "\n",
    "\n",
    "The simplest way to prevent overfitting is to reduce the size of the model, i.e. the number of learnable parameters in the model (which is \n",
    "determined by the number of layers and the number of units per layer). In deep learning, the number of learnable parameters in a model is \n",
    "often referred to as the model's \"capacity\". Intuitively, a model with more parameters will have more \"memorization capacity\" and therefore \n",
    "will be able to easily learn a perfect dictionary-like mapping between training samples and their targets, a mapping without any \n",
    "generalization power. For instance, a model with 500,000 binary parameters could easily be made to learn the class of every digits in the \n",
    "MNIST training set: we would only need 10 binary parameters for each of the 50,000 digits. Such a model would be useless for classifying \n",
    "new digit samples. Always keep this in mind: deep learning models tend to be good at fitting to the training data, but the real challenge \n",
    "is generalization, not fitting.\n",
    "\n",
    "On the other hand, if the network has limited memorization resources, it will not be able to learn this mapping as easily, and thus, in \n",
    "order to minimize its loss, it will have to resort to learning compressed representations that have predictive power regarding the targets \n",
    "-- precisely the type of representations that we are interested in. At the same time, keep in mind that you should be using models that have \n",
    "enough parameters that they won't be underfitting: your model shouldn't be starved for memorization resources. There is a compromise to be \n",
    "found between \"too much capacity\" and \"not enough capacity\".\n",
    "\n",
    "Unfortunately, there is no magical formula to determine what the right number of layers is, or what the right size for each layer is. You \n",
    "will have to evaluate an array of different architectures (on your validation set, not on your test set, of course) in order to find the \n",
    "right model size for your data. The general workflow to find an appropriate model size is to start with relatively few layers and \n",
    "parameters, and start increasing the size of the layers or adding new layers until you see diminishing returns with regard to the \n",
    "validation loss.\n",
    "\n",
    "Let's try this on our movie review classification network. Our original network was as such:"
   ]
  },
  {
   "cell_type": "code",
   "execution_count": 4,
   "metadata": {},
   "outputs": [
    {
     "name": "stdout",
     "output_type": "stream",
     "text": [
      "WARNING:tensorflow:From /home/tzone/anaconda3/lib/python3.6/site-packages/tensorflow/python/framework/op_def_library.py:263: colocate_with (from tensorflow.python.framework.ops) is deprecated and will be removed in a future version.\n",
      "Instructions for updating:\n",
      "Colocations handled automatically by placer.\n"
     ]
    }
   ],
   "source": [
    "from keras import models\n",
    "from keras import layers\n",
    "\n",
    "original_model = models.Sequential()\n",
    "original_model.add(layers.Dense(16, activation='relu', input_shape=(10000,)))\n",
    "original_model.add(layers.Dense(16, activation='relu'))\n",
    "original_model.add(layers.Dense(1, activation='sigmoid'))\n",
    "\n",
    "original_model.compile(optimizer='rmsprop',\n",
    "                       loss='binary_crossentropy',\n",
    "                       metrics=['acc'])"
   ]
  },
  {
   "cell_type": "markdown",
   "metadata": {},
   "source": [
    "Now let's try to replace it with this smaller network:"
   ]
  },
  {
   "cell_type": "code",
   "execution_count": 6,
   "metadata": {},
   "outputs": [],
   "source": [
    "smaller_model = models.Sequential()\n",
    "smaller_model.add(layers.Dense(4, activation='relu', input_shape=(10000,)))\n",
    "smaller_model.add(layers.Dense(4, activation='relu'))\n",
    "smaller_model.add(layers.Dense(1, activation='sigmoid'))\n",
    "\n",
    "smaller_model.compile(optimizer='rmsprop',\n",
    "                      loss='binary_crossentropy',\n",
    "                      metrics=['acc'])"
   ]
  },
  {
   "cell_type": "markdown",
   "metadata": {},
   "source": [
    "\n",
    "Here's a comparison of the validation losses of the original network and the smaller network. The dots are the validation loss values of \n",
    "the smaller network, and the crosses are the initial network (remember: a lower validation loss signals a better model)."
   ]
  },
  {
   "cell_type": "code",
   "execution_count": 7,
   "metadata": {},
   "outputs": [
    {
     "name": "stdout",
     "output_type": "stream",
     "text": [
      "WARNING:tensorflow:From /home/tzone/anaconda3/lib/python3.6/site-packages/tensorflow/python/ops/math_ops.py:3066: to_int32 (from tensorflow.python.ops.math_ops) is deprecated and will be removed in a future version.\n",
      "Instructions for updating:\n",
      "Use tf.cast instead.\n",
      "Train on 25000 samples, validate on 25000 samples\n",
      "Epoch 1/20\n",
      "25000/25000 [==============================] - 5s 202us/step - loss: 0.4636 - acc: 0.8203 - val_loss: 0.3568 - val_acc: 0.8707\n",
      "Epoch 2/20\n",
      "25000/25000 [==============================] - 3s 123us/step - loss: 0.2653 - acc: 0.9077 - val_loss: 0.2926 - val_acc: 0.8842\n",
      "Epoch 3/20\n",
      "25000/25000 [==============================] - 3s 115us/step - loss: 0.2036 - acc: 0.9291 - val_loss: 0.2866 - val_acc: 0.8855\n",
      "Epoch 4/20\n",
      "25000/25000 [==============================] - 3s 121us/step - loss: 0.1658 - acc: 0.9418 - val_loss: 0.3004 - val_acc: 0.8819\n",
      "Epoch 5/20\n",
      "25000/25000 [==============================] - 3s 117us/step - loss: 0.1435 - acc: 0.9500 - val_loss: 0.3118 - val_acc: 0.8796\n",
      "Epoch 6/20\n",
      "25000/25000 [==============================] - 3s 111us/step - loss: 0.1268 - acc: 0.9567 - val_loss: 0.3384 - val_acc: 0.8744\n",
      "Epoch 7/20\n",
      "25000/25000 [==============================] - 3s 111us/step - loss: 0.1078 - acc: 0.9641 - val_loss: 0.3993 - val_acc: 0.8611\n",
      "Epoch 8/20\n",
      "25000/25000 [==============================] - 3s 111us/step - loss: 0.0966 - acc: 0.9670 - val_loss: 0.3919 - val_acc: 0.8682\n",
      "Epoch 9/20\n",
      "25000/25000 [==============================] - 3s 109us/step - loss: 0.0841 - acc: 0.9727 - val_loss: 0.4272 - val_acc: 0.8619\n",
      "Epoch 10/20\n",
      "25000/25000 [==============================] - 3s 109us/step - loss: 0.0729 - acc: 0.9769 - val_loss: 0.4510 - val_acc: 0.8646\n",
      "Epoch 11/20\n",
      "25000/25000 [==============================] - 3s 110us/step - loss: 0.0621 - acc: 0.9816 - val_loss: 0.4768 - val_acc: 0.8631\n",
      "Epoch 12/20\n",
      "25000/25000 [==============================] - 3s 110us/step - loss: 0.0560 - acc: 0.9828 - val_loss: 0.5132 - val_acc: 0.8585\n",
      "Epoch 13/20\n",
      "25000/25000 [==============================] - 3s 112us/step - loss: 0.0434 - acc: 0.9878 - val_loss: 0.5260 - val_acc: 0.8604\n",
      "Epoch 14/20\n",
      "25000/25000 [==============================] - 3s 112us/step - loss: 0.0369 - acc: 0.9905 - val_loss: 0.5611 - val_acc: 0.8582\n",
      "Epoch 15/20\n",
      "25000/25000 [==============================] - 3s 113us/step - loss: 0.0321 - acc: 0.9910 - val_loss: 0.5995 - val_acc: 0.8566\n",
      "Epoch 16/20\n",
      "25000/25000 [==============================] - 3s 110us/step - loss: 0.0270 - acc: 0.9932 - val_loss: 0.6377 - val_acc: 0.8542\n",
      "Epoch 17/20\n",
      "25000/25000 [==============================] - 3s 110us/step - loss: 0.0211 - acc: 0.9949 - val_loss: 0.6745 - val_acc: 0.8533\n",
      "Epoch 18/20\n",
      "25000/25000 [==============================] - 3s 110us/step - loss: 0.0153 - acc: 0.9974 - val_loss: 0.7242 - val_acc: 0.8533\n",
      "Epoch 19/20\n",
      "25000/25000 [==============================] - 3s 110us/step - loss: 0.0140 - acc: 0.9974 - val_loss: 0.7634 - val_acc: 0.8514\n",
      "Epoch 20/20\n",
      "25000/25000 [==============================] - 3s 114us/step - loss: 0.0117 - acc: 0.9977 - val_loss: 0.8016 - val_acc: 0.8502\n"
     ]
    }
   ],
   "source": [
    "original_hist = original_model.fit(x_train, y_train,\n",
    "                                   epochs=20,\n",
    "                                   batch_size=512,\n",
    "                                   validation_data=(x_test, y_test))"
   ]
  },
  {
   "cell_type": "code",
   "execution_count": 8,
   "metadata": {},
   "outputs": [
    {
     "name": "stdout",
     "output_type": "stream",
     "text": [
      "Train on 25000 samples, validate on 25000 samples\n",
      "Epoch 1/20\n",
      "25000/25000 [==============================] - 3s 108us/step - loss: 0.6325 - acc: 0.7063 - val_loss: 0.5738 - val_acc: 0.7958\n",
      "Epoch 2/20\n",
      "25000/25000 [==============================] - 3s 106us/step - loss: 0.4971 - acc: 0.8637 - val_loss: 0.4528 - val_acc: 0.8597\n",
      "Epoch 3/20\n",
      "25000/25000 [==============================] - 3s 100us/step - loss: 0.3698 - acc: 0.8886 - val_loss: 0.3540 - val_acc: 0.8784\n",
      "Epoch 4/20\n",
      "25000/25000 [==============================] - 3s 110us/step - loss: 0.2858 - acc: 0.9072 - val_loss: 0.3070 - val_acc: 0.8866\n",
      "Epoch 5/20\n",
      "25000/25000 [==============================] - 2s 100us/step - loss: 0.2375 - acc: 0.9199 - val_loss: 0.2893 - val_acc: 0.8867\n",
      "Epoch 6/20\n",
      "25000/25000 [==============================] - 3s 102us/step - loss: 0.2059 - acc: 0.9297 - val_loss: 0.2812 - val_acc: 0.8874\n",
      "Epoch 7/20\n",
      "25000/25000 [==============================] - 3s 102us/step - loss: 0.1828 - acc: 0.9361 - val_loss: 0.2833 - val_acc: 0.8853\n",
      "Epoch 8/20\n",
      "25000/25000 [==============================] - 3s 112us/step - loss: 0.1654 - acc: 0.9424 - val_loss: 0.2819 - val_acc: 0.8885\n",
      "Epoch 9/20\n",
      "25000/25000 [==============================] - 3s 116us/step - loss: 0.1514 - acc: 0.9481 - val_loss: 0.3002 - val_acc: 0.8823\n",
      "Epoch 10/20\n",
      "25000/25000 [==============================] - 3s 108us/step - loss: 0.1394 - acc: 0.9520 - val_loss: 0.3041 - val_acc: 0.8829\n",
      "Epoch 11/20\n",
      "25000/25000 [==============================] - 2s 98us/step - loss: 0.1294 - acc: 0.9564 - val_loss: 0.3129 - val_acc: 0.8817\n",
      "Epoch 12/20\n",
      "25000/25000 [==============================] - 2s 99us/step - loss: 0.1199 - acc: 0.9596 - val_loss: 0.3276 - val_acc: 0.8784\n",
      "Epoch 13/20\n",
      "25000/25000 [==============================] - 3s 102us/step - loss: 0.1115 - acc: 0.9640 - val_loss: 0.3347 - val_acc: 0.8778\n",
      "Epoch 14/20\n",
      "25000/25000 [==============================] - 2s 99us/step - loss: 0.1039 - acc: 0.9666 - val_loss: 0.3489 - val_acc: 0.8763\n",
      "Epoch 15/20\n",
      "25000/25000 [==============================] - 3s 112us/step - loss: 0.0969 - acc: 0.9695 - val_loss: 0.3664 - val_acc: 0.8734\n",
      "Epoch 16/20\n",
      "25000/25000 [==============================] - 3s 115us/step - loss: 0.0903 - acc: 0.9726 - val_loss: 0.3829 - val_acc: 0.8715\n",
      "Epoch 17/20\n",
      "25000/25000 [==============================] - 3s 117us/step - loss: 0.0846 - acc: 0.9736 - val_loss: 0.4041 - val_acc: 0.8682\n",
      "Epoch 18/20\n",
      "25000/25000 [==============================] - 3s 108us/step - loss: 0.0785 - acc: 0.9760 - val_loss: 0.4210 - val_acc: 0.8662\n",
      "Epoch 19/20\n",
      "25000/25000 [==============================] - 3s 101us/step - loss: 0.0728 - acc: 0.9780 - val_loss: 0.4389 - val_acc: 0.8656\n",
      "Epoch 20/20\n",
      "25000/25000 [==============================] - 3s 100us/step - loss: 0.0677 - acc: 0.9803 - val_loss: 0.4582 - val_acc: 0.8640\n"
     ]
    }
   ],
   "source": [
    "smaller_model_hist = smaller_model.fit(x_train, y_train,\n",
    "                                       epochs=20,\n",
    "                                       batch_size=512,\n",
    "                                       validation_data=(x_test, y_test))"
   ]
  },
  {
   "cell_type": "code",
   "execution_count": 9,
   "metadata": {},
   "outputs": [],
   "source": [
    "epochs = range(1, 21)\n",
    "original_val_loss = original_hist.history['val_loss']\n",
    "smaller_model_val_loss = smaller_model_hist.history['val_loss']"
   ]
  },
  {
   "cell_type": "code",
   "execution_count": 11,
   "metadata": {},
   "outputs": [
    {
     "data": {
      "image/png": "[encoded data removed]",
      "text/plain": [
       "<Figure size 432x288 with 1 Axes>"
      ]
     },
     "metadata": {},
     "output_type": "display_data"
    }
   ],
   "source": [
    "%matplotlib inline\n",
    "import matplotlib.pyplot as plt\n",
    "\n",
    "# b+ is for \"blue cross\"\n",
    "plt.plot(epochs, original_val_loss, 'b+', label='Original model')\n",
    "# \"bo\" is for \"blue dot\"\n",
    "plt.plot(epochs, smaller_model_val_loss, 'bo', label='Smaller model')\n",
    "plt.xlabel('Epochs')\n",
    "plt.ylabel('Validation loss')\n",
    "plt.legend()\n",
    "\n",
    "plt.show()"
   ]
  },
  {
   "cell_type": "markdown",
   "metadata": {},
   "source": [
    "\n",
    "As you can see, the smaller network starts overfitting later than the reference one (after 6 epochs rather than 4) and its performance \n",
    "degrades much more slowly once it starts overfitting.\n",
    "\n",
    "Now, for kicks, let's add to this benchmark a network that has much more capacity, far more than the problem would warrant:"
   ]
  },
  {
   "cell_type": "code",
   "execution_count": 12,
   "metadata": {},
   "outputs": [],
   "source": [
    "bigger_model = models.Sequential()\n",
    "bigger_model.add(layers.Dense(512, activation='relu', input_shape=(10000,)))\n",
    "bigger_model.add(layers.Dense(512, activation='relu'))\n",
    "bigger_model.add(layers.Dense(1, activation='sigmoid'))\n",
    "\n",
    "bigger_model.compile(optimizer='rmsprop',\n",
    "                     loss='binary_crossentropy',\n",
    "                     metrics=['acc'])"
   ]
  },
  {
   "cell_type": "code",
   "execution_count": 13,
   "metadata": {},
   "outputs": [
    {
     "name": "stdout",
     "output_type": "stream",
     "text": [
      "Train on 25000 samples, validate on 25000 samples\n",
      "Epoch 1/20\n",
      "25000/25000 [==============================] - 15s 613us/step - loss: 0.4625 - acc: 0.7951 - val_loss: 0.3071 - val_acc: 0.8728\n",
      "Epoch 2/20\n",
      "25000/25000 [==============================] - 14s 566us/step - loss: 0.2212 - acc: 0.9125 - val_loss: 0.3058 - val_acc: 0.8748\n",
      "Epoch 3/20\n",
      "25000/25000 [==============================] - 14s 568us/step - loss: 0.1300 - acc: 0.9516 - val_loss: 0.3630 - val_acc: 0.8772\n",
      "Epoch 4/20\n",
      "25000/25000 [==============================] - 14s 567us/step - loss: 0.0657 - acc: 0.9797 - val_loss: 0.4520 - val_acc: 0.8820\n",
      "Epoch 5/20\n",
      "25000/25000 [==============================] - 15s 615us/step - loss: 0.0721 - acc: 0.9868 - val_loss: 0.5176 - val_acc: 0.8808\n",
      "Epoch 6/20\n",
      "25000/25000 [==============================] - 15s 599us/step - loss: 0.0744 - acc: 0.9885 - val_loss: 0.5399 - val_acc: 0.8676\n",
      "Epoch 7/20\n",
      "25000/25000 [==============================] - 15s 596us/step - loss: 0.0015 - acc: 0.9998 - val_loss: 0.6747 - val_acc: 0.8792\n",
      "Epoch 8/20\n",
      "25000/25000 [==============================] - 15s 583us/step - loss: 0.0897 - acc: 0.9888 - val_loss: 0.6174 - val_acc: 0.8782\n",
      "Epoch 9/20\n",
      "25000/25000 [==============================] - 14s 576us/step - loss: 0.0603 - acc: 0.9912 - val_loss: 0.5630 - val_acc: 0.8802\n",
      "Epoch 10/20\n",
      "25000/25000 [==============================] - 14s 578us/step - loss: 5.1248e-04 - acc: 1.0000 - val_loss: 0.7049 - val_acc: 0.8819\n",
      "Epoch 11/20\n",
      "25000/25000 [==============================] - 14s 576us/step - loss: 8.9768e-05 - acc: 1.0000 - val_loss: 0.8105 - val_acc: 0.8798\n",
      "Epoch 12/20\n",
      "25000/25000 [==============================] - 14s 576us/step - loss: 0.0937 - acc: 0.9906 - val_loss: 0.7910 - val_acc: 0.8798\n",
      "Epoch 13/20\n",
      "25000/25000 [==============================] - 14s 577us/step - loss: 2.0226e-05 - acc: 1.0000 - val_loss: 0.8329 - val_acc: 0.8806\n",
      "Epoch 14/20\n",
      "25000/25000 [==============================] - 14s 576us/step - loss: 7.4981e-06 - acc: 1.0000 - val_loss: 0.8802 - val_acc: 0.8813\n",
      "Epoch 15/20\n",
      "25000/25000 [==============================] - 15s 592us/step - loss: 2.2412e-06 - acc: 1.0000 - val_loss: 0.9546 - val_acc: 0.8809\n",
      "Epoch 16/20\n",
      "25000/25000 [==============================] - 16s 627us/step - loss: 5.5823e-07 - acc: 1.0000 - val_loss: 1.0235 - val_acc: 0.8804\n",
      "Epoch 17/20\n",
      "25000/25000 [==============================] - 16s 621us/step - loss: 1.9369e-07 - acc: 1.0000 - val_loss: 1.0639 - val_acc: 0.8804\n",
      "Epoch 18/20\n",
      "25000/25000 [==============================] - 15s 602us/step - loss: 1.3089e-07 - acc: 1.0000 - val_loss: 1.0945 - val_acc: 0.8806\n",
      "Epoch 19/20\n",
      "25000/25000 [==============================] - 14s 577us/step - loss: 1.1866e-07 - acc: 1.0000 - val_loss: 1.1058 - val_acc: 0.8803\n",
      "Epoch 20/20\n",
      "25000/25000 [==============================] - 15s 602us/step - loss: 1.1500e-07 - acc: 1.0000 - val_loss: 1.1160 - val_acc: 0.8802\n"
     ]
    }
   ],
   "source": [
    "bigger_model_hist = bigger_model.fit(x_train, y_train,\n",
    "                                     epochs=20,\n",
    "                                     batch_size=512,\n",
    "                                     validation_data=(x_test, y_test))"
   ]
  },
  {
   "cell_type": "markdown",
   "metadata": {},
   "source": [
    "Here's how the bigger network fares compared to the reference one. The dots are the validation loss values of the bigger network, and the \n",
    "crosses are the initial network."
   ]
  },
  {
   "cell_type": "code",
   "execution_count": 14,
   "metadata": {},
   "outputs": [
    {
     "data": {
      "image/png": "[encoded data removed]",
      "text/plain": [
       "<Figure size 432x288 with 1 Axes>"
      ]
     },
     "metadata": {},
     "output_type": "display_data"
    }
   ],
   "source": [
    "bigger_model_val_loss = bigger_model_hist.history['val_loss']\n",
    "\n",
    "plt.plot(epochs, original_val_loss, 'b+', label='Original model')\n",
    "plt.plot(epochs, bigger_model_val_loss, 'bo', label='Bigger model')\n",
    "plt.xlabel('Epochs')\n",
    "plt.ylabel('Validation loss')\n",
    "plt.legend()\n",
    "\n",
    "plt.show()"
   ]
  },
  {
   "cell_type": "markdown",
   "metadata": {},
   "source": [
    "\n",
    "The bigger network starts overfitting almost right away, after just one epoch, and overfits much more severely. Its validation loss is also \n",
    "more noisy.\n",
    "\n",
    "Meanwhile, here are the training losses for our two networks:"
   ]
  },
  {
   "cell_type": "code",
   "execution_count": 15,
   "metadata": {},
   "outputs": [
    {
     "data": {
      "image/png": "[encoded data removed]",
      "text/plain": [
       "<Figure size 432x288 with 1 Axes>"
      ]
     },
     "metadata": {},
     "output_type": "display_data"
    }
   ],
   "source": [
    "original_train_loss = original_hist.history['loss']\n",
    "bigger_model_train_loss = bigger_model_hist.history['loss']\n",
    "\n",
    "plt.plot(epochs, original_train_loss, 'b+', label='Original model')\n",
    "plt.plot(epochs, bigger_model_train_loss, 'bo', label='Bigger model')\n",
    "plt.xlabel('Epochs')\n",
    "plt.ylabel('Training loss')\n",
    "plt.legend()\n",
    "\n",
    "plt.show()"
   ]
  },
  {
   "cell_type": "markdown",
   "metadata": {},
   "source": [
    "As you can see, the bigger network gets its training loss near zero very quickly. The more capacity the network has, the quicker it will be \n",
    "able to model the training data (resulting in a low training loss), but the more susceptible it is to overfitting (resulting in a large \n",
    "difference between the training and validation loss)."
   ]
  },
  {
   "cell_type": "markdown",
   "metadata": {},
   "source": [
    "## Adding weight regularization\n",
    "\n",
    "\n",
    "You may be familiar with _Occam's Razor_ principle: given two explanations for something, the explanation most likely to be correct is the \n",
    "\"simplest\" one, the one that makes the least amount of assumptions. This also applies to the models learned by neural networks: given some \n",
    "training data and a network architecture, there are multiple sets of weights values (multiple _models_) that could explain the data, and \n",
    "simpler models are less likely to overfit than complex ones.\n",
    "\n",
    "A \"simple model\" in this context is a model where the distribution of parameter values has less entropy (or a model with fewer \n",
    "parameters altogether, as we saw in the section above). Thus a common way to mitigate overfitting is to put constraints on the complexity \n",
    "of a network by forcing its weights to only take small values, which makes the distribution of weight values more \"regular\". This is called \n",
    "\"weight regularization\", and it is done by adding to the loss function of the network a _cost_ associated with having large weights. This \n",
    "cost comes in two flavors:\n",
    "\n",
    "* L1 regularization, where the cost added is proportional to the _absolute value of the weights coefficients_ (i.e. to what is called the \n",
    "\"L1 norm\" of the weights).\n",
    "* L2 regularization, where the cost added is proportional to the _square of the value of the weights coefficients_ (i.e. to what is called \n",
    "the \"L2 norm\" of the weights). L2 regularization is also called _weight decay_ in the context of neural networks. Don't let the different \n",
    "name confuse you: weight decay is mathematically the exact same as L2 regularization.\n",
    "\n",
    "In Keras, weight regularization is added by passing _weight regularizer instances_ to layers as keyword arguments. Let's add L2 weight \n",
    "regularization to our movie review classification network:"
   ]
  },
  {
   "cell_type": "code",
   "execution_count": 16,
   "metadata": {},
   "outputs": [],
   "source": [
    "from keras import regularizers\n",
    "\n",
    "l2_model = models.Sequential()\n",
    "l2_model.add(layers.Dense(16, kernel_regularizer=regularizers.l2(0.001),\n",
    "                          activation='relu', input_shape=(10000,)))\n",
    "l2_model.add(layers.Dense(16, kernel_regularizer=regularizers.l2(0.001),\n",
    "                          activation='relu'))\n",
    "l2_model.add(layers.Dense(1, activation='sigmoid'))"
   ]
  },
  {
   "cell_type": "code",
   "execution_count": 17,
   "metadata": {},
   "outputs": [],
   "source": [
    "l2_model.compile(optimizer='rmsprop',\n",
    "                 loss='binary_crossentropy',\n",
    "                 metrics=['acc'])"
   ]
  },
  {
   "cell_type": "markdown",
   "metadata": {},
   "source": [
    "`l2(0.001)` means that every coefficient in the weight matrix of the layer will add `0.001 * weight_coefficient_value` to the total loss of \n",
    "the network. Note that because this penalty is _only added at training time_, the loss for this network will be much higher at training \n",
    "than at test time.\n",
    "\n",
    "Here's the impact of our L2 regularization penalty:"
   ]
  },
  {
   "cell_type": "code",
   "execution_count": 18,
   "metadata": {},
   "outputs": [
    {
     "name": "stdout",
     "output_type": "stream",
     "text": [
      "Train on 25000 samples, validate on 25000 samples\n",
      "Epoch 1/20\n",
      "25000/25000 [==============================] - 3s 125us/step - loss: 0.4828 - acc: 0.8185 - val_loss: 0.3835 - val_acc: 0.8730\n",
      "Epoch 2/20\n",
      "25000/25000 [==============================] - 3s 118us/step - loss: 0.3134 - acc: 0.9062 - val_loss: 0.3347 - val_acc: 0.8881\n",
      "Epoch 3/20\n",
      "25000/25000 [==============================] - 3s 119us/step - loss: 0.2675 - acc: 0.9217 - val_loss: 0.3344 - val_acc: 0.8860\n",
      "Epoch 4/20\n",
      "25000/25000 [==============================] - 3s 112us/step - loss: 0.2474 - acc: 0.9298 - val_loss: 0.3369 - val_acc: 0.8848\n",
      "Epoch 5/20\n",
      "25000/25000 [==============================] - 3s 111us/step - loss: 0.2399 - acc: 0.9316 - val_loss: 0.3507 - val_acc: 0.8817\n",
      "Epoch 6/20\n",
      "25000/25000 [==============================] - 3s 119us/step - loss: 0.2255 - acc: 0.9391 - val_loss: 0.3755 - val_acc: 0.8728\n",
      "Epoch 7/20\n",
      "25000/25000 [==============================] - 3s 119us/step - loss: 0.2207 - acc: 0.9412 - val_loss: 0.4640 - val_acc: 0.8437\n",
      "Epoch 8/20\n",
      "25000/25000 [==============================] - 4s 141us/step - loss: 0.2200 - acc: 0.9398 - val_loss: 0.3874 - val_acc: 0.8719\n",
      "Epoch 9/20\n",
      "25000/25000 [==============================] - 3s 135us/step - loss: 0.2142 - acc: 0.9424 - val_loss: 0.3855 - val_acc: 0.8724\n",
      "Epoch 10/20\n",
      "25000/25000 [==============================] - 3s 115us/step - loss: 0.2034 - acc: 0.9480 - val_loss: 0.4836 - val_acc: 0.8440\n",
      "Epoch 11/20\n",
      "25000/25000 [==============================] - 3s 111us/step - loss: 0.2033 - acc: 0.9474 - val_loss: 0.4148 - val_acc: 0.8658\n",
      "Epoch 12/20\n",
      "25000/25000 [==============================] - 3s 112us/step - loss: 0.2050 - acc: 0.9451 - val_loss: 0.4047 - val_acc: 0.8690\n",
      "Epoch 13/20\n",
      "25000/25000 [==============================] - 3s 112us/step - loss: 0.1944 - acc: 0.9507 - val_loss: 0.4597 - val_acc: 0.8550\n",
      "Epoch 14/20\n",
      "25000/25000 [==============================] - 3s 112us/step - loss: 0.1960 - acc: 0.9494 - val_loss: 0.4129 - val_acc: 0.8690\n",
      "Epoch 15/20\n",
      "25000/25000 [==============================] - 3s 115us/step - loss: 0.1905 - acc: 0.9522 - val_loss: 0.4169 - val_acc: 0.8686\n",
      "Epoch 16/20\n",
      "25000/25000 [==============================] - 3s 111us/step - loss: 0.1871 - acc: 0.9533 - val_loss: 0.5054 - val_acc: 0.8462\n",
      "Epoch 17/20\n",
      "25000/25000 [==============================] - 3s 112us/step - loss: 0.1870 - acc: 0.9520 - val_loss: 0.4150 - val_acc: 0.8711\n",
      "Epoch 18/20\n",
      "25000/25000 [==============================] - 3s 112us/step - loss: 0.1814 - acc: 0.9568 - val_loss: 0.4179 - val_acc: 0.8706\n",
      "Epoch 19/20\n",
      "25000/25000 [==============================] - 3s 125us/step - loss: 0.1810 - acc: 0.9554 - val_loss: 0.4653 - val_acc: 0.8600\n",
      "Epoch 20/20\n",
      "25000/25000 [==============================] - 3s 117us/step - loss: 0.1787 - acc: 0.9570 - val_loss: 0.4977 - val_acc: 0.8508\n"
     ]
    }
   ],
   "source": [
    "l2_model_hist = l2_model.fit(x_train, y_train,\n",
    "                             epochs=20,\n",
    "                             batch_size=512,\n",
    "                             validation_data=(x_test, y_test))"
   ]
  },
  {
   "cell_type": "code",
   "execution_count": 19,
   "metadata": {},
   "outputs": [
    {
     "data": {
      "image/png": "[encoded data removed]",
      "text/plain": [
       "<Figure size 432x288 with 1 Axes>"
      ]
     },
     "metadata": {},
     "output_type": "display_data"
    }
   ],
   "source": [
    "l2_model_val_loss = l2_model_hist.history['val_loss']\n",
    "\n",
    "plt.plot(epochs, original_val_loss, 'b+', label='Original model')\n",
    "plt.plot(epochs, l2_model_val_loss, 'bo', label='L2-regularized model')\n",
    "plt.xlabel('Epochs')\n",
    "plt.ylabel('Validation loss')\n",
    "plt.legend()\n",
    "\n",
    "plt.show()"
   ]
  },
  {
   "cell_type": "markdown",
   "metadata": {},
   "source": [
    "\n",
    "\n",
    "As you can see, the model with L2 regularization (dots) has become much more resistant to overfitting than the reference model (crosses), \n",
    "even though both models have the same number of parameters.\n",
    "\n",
    "As alternatives to L2 regularization, you could use one of the following Keras weight regularizers:"
   ]
  },
  {
   "cell_type": "code",
   "execution_count": 20,
   "metadata": {},
   "outputs": [
    {
     "data": {
      "text/plain": [
       "<keras.regularizers.L1L2 at 0x7faea5b1d8d0>"
      ]
     },
     "execution_count": 20,
     "metadata": {},
     "output_type": "execute_result"
    }
   ],
   "source": [
    "from keras import regularizers\n",
    "\n",
    "# L1 regularization\n",
    "regularizers.l1(0.001)\n",
    "\n",
    "# L1 and L2 regularization at the same time\n",
    "regularizers.l1_l2(l1=0.001, l2=0.001)"
   ]
  },
  {
   "cell_type": "markdown",
   "metadata": {},
   "source": [
    "## Adding dropout\n",
    "\n",
    "\n",
    "Dropout is one of the most effective and most commonly used regularization techniques for neural networks, developed by Hinton and his \n",
    "students at the University of Toronto. Dropout, applied to a layer, consists of randomly \"dropping out\" (i.e. setting to zero) a number of \n",
    "output features of the layer during training. Let's say a given layer would normally have returned a vector `[0.2, 0.5, 1.3, 0.8, 1.1]` for a \n",
    "given input sample during training; after applying dropout, this vector will have a few zero entries distributed at random, e.g. `[0, 0.5, \n",
    "1.3, 0, 1.1]`. The \"dropout rate\" is the fraction of the features that are being zeroed-out; it is usually set between 0.2 and 0.5. At test \n",
    "time, no units are dropped out, and instead the layer's output values are scaled down by a factor equal to the dropout rate, so as to \n",
    "balance for the fact that more units are active than at training time.\n",
    "\n",
    "Consider a Numpy matrix containing the output of a layer, `layer_output`, of shape `(batch_size, features)`. At training time, we would be \n",
    "zero-ing out at random a fraction of the values in the matrix:"
   ]
  },
  {
   "cell_type": "code",
   "execution_count": 21,
   "metadata": {},
   "outputs": [
    {
     "ename": "NameError",
     "evalue": "name 'layer_output' is not defined",
     "output_type": "error",
     "traceback": [
      "\u001b[0;31m---------------------------------------------------------------------------\u001b[0m",
      "\u001b[0;31mNameError\u001b[0m                                 Traceback (most recent call last)",
      "\u001b[0;32m<ipython-input-21-f1f187ff4a2c>\u001b[0m in \u001b[0;36m<module>\u001b[0;34m()\u001b[0m\n\u001b[1;32m      1\u001b[0m \u001b[0;31m# At training time: we drop out 50% of the units in the output\u001b[0m\u001b[0;34m\u001b[0m\u001b[0;34m\u001b[0m\u001b[0m\n\u001b[0;32m----> 2\u001b[0;31m \u001b[0mlayer_output\u001b[0m \u001b[0;34m*=\u001b[0m \u001b[0mnp\u001b[0m\u001b[0;34m.\u001b[0m\u001b[0mrandint\u001b[0m\u001b[0;34m(\u001b[0m\u001b[0;36m0\u001b[0m\u001b[0;34m,\u001b[0m \u001b[0mhigh\u001b[0m\u001b[0;34m=\u001b[0m\u001b[0;36m2\u001b[0m\u001b[0;34m,\u001b[0m \u001b[0msize\u001b[0m\u001b[0;34m=\u001b[0m\u001b[0mlayer_output\u001b[0m\u001b[0;34m.\u001b[0m\u001b[0mshape\u001b[0m\u001b[0;34m)\u001b[0m\u001b[0;34m\u001b[0m\u001b[0m\n\u001b[0m",
      "\u001b[0;31mNameError\u001b[0m: name 'layer_output' is not defined"
     ]
    }
   ],
   "source": [
    "# At training time: we drop out 50% of the units in the output\n",
    "layer_output *= np.randint(0, high=2, size=layer_output.shape)"
   ]
  },
  {
   "cell_type": "markdown",
   "metadata": {},
   "source": [
    "\n",
    "At test time, we would be scaling the output down by the dropout rate. Here we scale by 0.5 (because we were previous dropping half the \n",
    "units):"
   ]
  },
  {
   "cell_type": "code",
   "execution_count": null,
   "metadata": {
    "collapsed": true
   },
   "outputs": [],
   "source": [
    "# At test time:\n",
    "layer_output *= 0.5"
   ]
  },
  {
   "cell_type": "markdown",
   "metadata": {},
   "source": [
    "\n",
    "Note that this process can be implemented by doing both operations at training time and leaving the output unchanged at test time, which is \n",
    "often the way it is implemented in practice:"
   ]
  },
  {
   "cell_type": "code",
   "execution_count": null,
   "metadata": {
    "collapsed": true
   },
   "outputs": [],
   "source": [
    "# At training time:\n",
    "layer_output *= np.randint(0, high=2, size=layer_output.shape)\n",
    "# Note that we are scaling *up* rather scaling *down* in this case\n",
    "layer_output /= 0.5"
   ]
  },
  {
   "cell_type": "markdown",
   "metadata": {},
   "source": [
    "\n",
    "This technique may seem strange and arbitrary. Why would this help reduce overfitting? Geoff Hinton has said that he was inspired, among \n",
    "other things, by a fraud prevention mechanism used by banks -- in his own words: _\"I went to my bank. The tellers kept changing and I asked \n",
    "one of them why. He said he didn’t know but they got moved around a lot. I figured it must be because it would require cooperation \n",
    "between employees to successfully defraud the bank. This made me realize that randomly removing a different subset of neurons on each \n",
    "example would prevent conspiracies and thus reduce overfitting\"_.\n",
    "\n",
    "The core idea is that introducing noise in the output values of a layer can break up happenstance patterns that are not significant (what \n",
    "Hinton refers to as \"conspiracies\"), which the network would start memorizing if no noise was present. \n",
    "\n",
    "In Keras you can introduce dropout in a network via the `Dropout` layer, which gets applied to the output of layer right before it, e.g.:"
   ]
  },
  {
   "cell_type": "code",
   "execution_count": null,
   "metadata": {
    "collapsed": true
   },
   "outputs": [],
   "source": [
    "model.add(layers.Dropout(0.5))"
   ]
  },
  {
   "cell_type": "markdown",
   "metadata": {},
   "source": [
    "Let's add two `Dropout` layers in our IMDB network to see how well they do at reducing overfitting:"
   ]
  },
  {
   "cell_type": "code",
   "execution_count": 22,
   "metadata": {
    "collapsed": true
   },
   "outputs": [],
   "source": [
    "dpt_model = models.Sequential()\n",
    "dpt_model.add(layers.Dense(16, activation='relu', input_shape=(10000,)))\n",
    "dpt_model.add(layers.Dropout(0.5))\n",
    "dpt_model.add(layers.Dense(16, activation='relu'))\n",
    "dpt_model.add(layers.Dropout(0.5))\n",
    "dpt_model.add(layers.Dense(1, activation='sigmoid'))\n",
    "\n",
    "dpt_model.compile(optimizer='rmsprop',\n",
    "                  loss='binary_crossentropy',\n",
    "                  metrics=['acc'])"
   ]
  },
  {
   "cell_type": "code",
   "execution_count": 23,
   "metadata": {},
   "outputs": [
    {
     "name": "stdout",
     "output_type": "stream",
     "text": [
      "Train on 25000 samples, validate on 25000 samples\n",
      "Epoch 1/20\n",
      "25000/25000 [==============================] - 3s - loss: 0.6035 - acc: 0.6678 - val_loss: 0.4704 - val_acc: 0.8651\n",
      "Epoch 2/20\n",
      "25000/25000 [==============================] - 2s - loss: 0.4622 - acc: 0.8002 - val_loss: 0.3612 - val_acc: 0.8724\n",
      "Epoch 3/20\n",
      "25000/25000 [==============================] - 2s - loss: 0.3731 - acc: 0.8553 - val_loss: 0.2960 - val_acc: 0.8904\n",
      "Epoch 4/20\n",
      "25000/25000 [==============================] - 2s - loss: 0.3162 - acc: 0.8855 - val_loss: 0.2772 - val_acc: 0.8917\n",
      "Epoch 5/20\n",
      "25000/25000 [==============================] - 2s - loss: 0.2762 - acc: 0.9033 - val_loss: 0.2803 - val_acc: 0.8889\n",
      "Epoch 6/20\n",
      "25000/25000 [==============================] - 2s - loss: 0.2454 - acc: 0.9172 - val_loss: 0.2823 - val_acc: 0.8892\n",
      "Epoch 7/20\n",
      "25000/25000 [==============================] - 2s - loss: 0.2178 - acc: 0.9281 - val_loss: 0.2982 - val_acc: 0.8877\n",
      "Epoch 8/20\n",
      "25000/25000 [==============================] - 2s - loss: 0.1994 - acc: 0.9351 - val_loss: 0.3101 - val_acc: 0.8875\n",
      "Epoch 9/20\n",
      "25000/25000 [==============================] - 2s - loss: 0.1832 - acc: 0.9400 - val_loss: 0.3318 - val_acc: 0.8860\n",
      "Epoch 10/20\n",
      "25000/25000 [==============================] - 2s - loss: 0.1692 - acc: 0.9434 - val_loss: 0.3534 - val_acc: 0.8841\n",
      "Epoch 11/20\n",
      "25000/25000 [==============================] - 2s - loss: 0.1590 - acc: 0.9483 - val_loss: 0.3689 - val_acc: 0.8830\n",
      "Epoch 12/20\n",
      "25000/25000 [==============================] - 2s - loss: 0.1499 - acc: 0.9496 - val_loss: 0.4107 - val_acc: 0.8776\n",
      "Epoch 13/20\n",
      "25000/25000 [==============================] - 2s - loss: 0.1405 - acc: 0.9539 - val_loss: 0.4114 - val_acc: 0.8782\n",
      "Epoch 14/20\n",
      "25000/25000 [==============================] - 2s - loss: 0.1333 - acc: 0.9562 - val_loss: 0.4549 - val_acc: 0.8771\n",
      "Epoch 15/20\n",
      "25000/25000 [==============================] - 2s - loss: 0.1267 - acc: 0.9572 - val_loss: 0.4579 - val_acc: 0.8800\n",
      "Epoch 16/20\n",
      "25000/25000 [==============================] - 2s - loss: 0.1225 - acc: 0.9580 - val_loss: 0.4843 - val_acc: 0.8772\n",
      "Epoch 17/20\n",
      "25000/25000 [==============================] - 2s - loss: 0.1233 - acc: 0.9590 - val_loss: 0.4783 - val_acc: 0.8761\n",
      "Epoch 18/20\n",
      "25000/25000 [==============================] - 2s - loss: 0.1212 - acc: 0.9601 - val_loss: 0.5051 - val_acc: 0.8740\n",
      "Epoch 19/20\n",
      "25000/25000 [==============================] - 2s - loss: 0.1153 - acc: 0.9618 - val_loss: 0.5451 - val_acc: 0.8747\n",
      "Epoch 20/20\n",
      "25000/25000 [==============================] - 2s - loss: 0.1155 - acc: 0.9621 - val_loss: 0.5358 - val_acc: 0.8738\n"
     ]
    }
   ],
   "source": [
    "dpt_model_hist = dpt_model.fit(x_train, y_train,\n",
    "                               epochs=20,\n",
    "                               batch_size=512,\n",
    "                               validation_data=(x_test, y_test))"
   ]
  },
  {
   "cell_type": "markdown",
   "metadata": {},
   "source": [
    "Let's plot the results:"
   ]
  },
  {
   "cell_type": "code",
   "execution_count": 32,
   "metadata": {},
   "outputs": [
    {
     "data": {
      "image/png": "[encoded data removed]",
      "text/plain": [
       "<matplotlib.figure.Figure at 0x7f43baa91dd8>"
      ]
     },
     "metadata": {},
     "output_type": "display_data"
    }
   ],
   "source": [
    "dpt_model_val_loss = dpt_model_hist.history['val_loss']\n",
    "\n",
    "plt.plot(epochs, original_val_loss, 'b+', label='Original model')\n",
    "plt.plot(epochs, dpt_model_val_loss, 'bo', label='Dropout-regularized model')\n",
    "plt.xlabel('Epochs')\n",
    "plt.ylabel('Validation loss')\n",
    "plt.legend()\n",
    "\n",
    "plt.show()"
   ]
  },
  {
   "cell_type": "markdown",
   "metadata": {},
   "source": [
    "\n",
    "Again, a clear improvement over the reference network.\n",
    "\n",
    "To recap: here the most common ways to prevent overfitting in neural networks:\n",
    "\n",
    "* Getting more training data.\n",
    "* Reducing the capacity of the network.\n",
    "* Adding weight regularization.\n",
    "* Adding dropout."
   ]
  }
 ],
 "metadata": {
  "kernelspec": {
   "display_name": "Python 3",
   "language": "python",
   "name": "python3"
  },
  "language_info": {
   "codemirror_mode": {
    "name": "ipython",
    "version": 3
   },
   "file_extension": ".py",
   "mimetype": "text/x-python",
   "name": "python",
   "nbconvert_exporter": "python",
   "pygments_lexer": "ipython3",
   "version": "3.6.5"
  }
 },
 "nbformat": 4,
 "nbformat_minor": 2
}
