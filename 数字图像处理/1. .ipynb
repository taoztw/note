{
 "cells": [
  {
   "cell_type": "markdown",
   "metadata": {},
   "source": [
    "## 数字图像\n",
    "\n",
    "<br>\n",
    "\n",
    "![数字图像概念](../photo/数字图像.png)"
   ]
  },
  {
   "cell_type": "markdown",
   "metadata": {},
   "source": [
    "## 人眼感知\n",
    "\n",
    "<br>\n",
    "\n",
    "**感知亮度不是简单的强度的函数。**\n",
    "\n",
    "几种现象：\n",
    "\n",
    ">第一种：视觉系统往往会在不同强度区域的别解处出现“下冲”或“上冲”现象。\n",
    " ex:\n",
    " 条带的强度恒定，但是在靠近边界处我们实际上感知到了带有毛边的亮度模式。(毛边的带称为**马赫带**)\n",
    "![马赫带效应图解](../photo/马赫带效应图解.png)\n",
    "\n",
    "<br>\n",
    "\n",
    ">第二种：同时对比，感知区域的亮度并不简单的取决于其强度。\n",
    "![同时对比](../photo/pic28.png)\n",
    "\n",
    ">第三种：错觉，错觉是人类视觉系统的一种特性，但这一特性尚未被人类完全了解\n",
    "![错觉](../photo/pic29.png)"
   ]
  }
 ],
 "metadata": {
  "kernelspec": {
   "display_name": "Python 3",
   "language": "python",
   "name": "python3"
  },
  "language_info": {
   "codemirror_mode": {
    "name": "ipython",
    "version": 3
   },
   "file_extension": ".py",
   "mimetype": "text/x-python",
   "name": "python",
   "nbconvert_exporter": "python",
   "pygments_lexer": "ipython3",
   "version": "3.6.8"
  }
 },
 "nbformat": 4,
 "nbformat_minor": 2
}
