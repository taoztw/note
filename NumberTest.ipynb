{
  "nbformat": 4,
  "nbformat_minor": 0,
  "metadata": {
    "colab": {
      "name": "NumberTest.ipynb",
      "provenance": [],
      "authorship_tag": "ABX9TyNjGeD9RMkWTTT/AwOtdW9j",
      "include_colab_link": true
    },
    "kernelspec": {
      "name": "python3",
      "display_name": "Python 3"
    },
    "language_info": {
      "name": "python"
    },
    "accelerator": "GPU"
  },
  "cells": [
    {
      "cell_type": "markdown",
      "metadata": {
        "id": "view-in-github",
        "colab_type": "text"
      },
      "source": [
        "<a href=\"https://colab.research.google.com/github/taoztw/note/blob/master/NumberTest.ipynb\" target=\"_parent\"><img src=\"https://colab.research.google.com/assets/colab-badge.svg\" alt=\"Open In Colab\"/></a>"
      ]
    },
    {
      "cell_type": "code",
      "execution_count": null,
      "metadata": {
        "colab": {
          "base_uri": "https://localhost:8080/"
        },
        "id": "1jYhB7Ni-2bj",
        "outputId": "b9d3e283-9b10-4db2-f0fa-f437968cc2a5"
      },
      "outputs": [
        {
          "output_type": "stream",
          "name": "stdout",
          "text": [
            "Cloning into 'NumberTest'...\n",
            "remote: Enumerating objects: 37, done.\u001b[K\n",
            "remote: Counting objects: 100% (37/37), done.\u001b[K\n",
            "remote: Compressing objects: 100% (33/33), done.\u001b[K\n",
            "remote: Total 37 (delta 6), reused 20 (delta 0), pack-reused 0\u001b[K\n",
            "Unpacking objects: 100% (37/37), done.\n"
          ]
        }
      ],
      "source": [
        "!git clone https://github.com/JunW15/NumberTest.git"
      ]
    },
    {
      "cell_type": "markdown",
      "source": [
        ""
      ],
      "metadata": {
        "id": "T3qzF1b-GKJN"
      }
    },
    {
      "cell_type": "code",
      "source": [
        "!pip install num2words\n",
        "!pip install cn2an\n",
        "# !pip install google_translate  # 代码中注释掉这行\n",
        "!!pip install hydra-core omegaconf bitarray fairseq subword-nmt"
      ],
      "metadata": {
        "colab": {
          "base_uri": "https://localhost:8080/"
        },
        "id": "qnTTSfGHCgp5",
        "outputId": "a25b06f3-68e0-415e-dc88-700a1450aeb6"
      },
      "execution_count": null,
      "outputs": [
        {
          "output_type": "stream",
          "name": "stdout",
          "text": [
            "Requirement already satisfied: num2words in /usr/local/lib/python3.7/dist-packages (0.5.10)\n",
            "Requirement already satisfied: docopt>=0.6.2 in /usr/local/lib/python3.7/dist-packages (from num2words) (0.6.2)\n",
            "Requirement already satisfied: cn2an in /usr/local/lib/python3.7/dist-packages (0.5.16)\n",
            "Requirement already satisfied: ruamel.yaml>=0.16.0 in /usr/local/lib/python3.7/dist-packages (from cn2an) (0.17.21)\n",
            "Requirement already satisfied: proces>=0.1.0 in /usr/local/lib/python3.7/dist-packages (from cn2an) (0.1.2)\n",
            "Requirement already satisfied: setuptools>=47.3.1 in /usr/local/lib/python3.7/dist-packages (from cn2an) (57.4.0)\n",
            "Requirement already satisfied: zhconv==1.4.3 in /usr/local/lib/python3.7/dist-packages (from proces>=0.1.0->cn2an) (1.4.3)\n",
            "Requirement already satisfied: ruamel.yaml.clib>=0.2.6 in /usr/local/lib/python3.7/dist-packages (from ruamel.yaml>=0.16.0->cn2an) (0.2.6)\n",
            "Collecting google_translate\n",
            "  Downloading google-translate-0.01.tar.gz (2.5 kB)\n",
            "Building wheels for collected packages: google-translate\n",
            "  Building wheel for google-translate (setup.py) ... \u001b[?25l\u001b[?25hdone\n",
            "  Created wheel for google-translate: filename=google_translate-0.1-py3-none-any.whl size=5277 sha256=dca17a9faf712896ad3238c2a82e217b6f86c870376028269d65711ce4105843\n",
            "  Stored in directory: /root/.cache/pip/wheels/65/bb/90/0c00df9b42e251608f55f7e451f3aafe0cac95862850701267\n",
            "Successfully built google-translate\n",
            "Installing collected packages: google-translate\n",
            "Successfully installed google-translate-0.1\n"
          ]
        }
      ]
    },
    {
      "cell_type": "code",
      "source": [
        "import os\n",
        "os.chdir('./NumberTest')"
      ],
      "metadata": {
        "id": "cakiL-gLAeUV"
      },
      "execution_count": null,
      "outputs": []
    },
    {
      "cell_type": "code",
      "source": [
        "!ls"
      ],
      "metadata": {
        "colab": {
          "base_uri": "https://localhost:8080/"
        },
        "id": "xDBEh1dwBMfC",
        "outputId": "af046569-554c-4d35-8902-5cc009fae043"
      },
      "execution_count": null,
      "outputs": [
        {
          "output_type": "stream",
          "name": "stdout",
          "text": [
            "example.ipynb  NumbericalChecker.py\t__pycache__  requirements.txt\n",
            "LICENSE        NumbericalEvaluation.py\tREADME.md    templates\n"
          ]
        }
      ]
    },
    {
      "cell_type": "code",
      "source": [
        "from NumbericalEvaluation import main\n",
        "import torch\n",
        "en2de = torch.hub.load('pytorch/fairseq', 'transformer.wmt16.en-de',bpe='subword_nmt')\n",
        "en2de.eval()\n",
        "instance = main('en','de',en2de,'./templates/')"
      ],
      "metadata": {
        "colab": {
          "base_uri": "https://localhost:8080/"
        },
        "id": "gwcJrwr8BcDK",
        "outputId": "65f585db-f1ae-4767-f979-cd5e5a3e9d36"
      },
      "execution_count": null,
      "outputs": [
        {
          "output_type": "stream",
          "name": "stderr",
          "text": [
            "Using cache found in /root/.cache/torch/hub/pytorch_fairseq_master\n",
            "2022-02-23 10:57:41 | INFO | fairseq.file_utils | loading archive file https://dl.fbaipublicfiles.com/fairseq/models/wmt16.en-de.joined-dict.transformer.tar.bz2 from cache at /root/.cache/torch/pytorch_fairseq/b848fe211d8a6108a9447b57123f37e89fa342068cec2c5a30cdd03d0ae5d0ce.c9d184f84e1d6a47381624e5f0f9804fe85742f4998f5486cf5177dc59512b13\n",
            "/usr/local/lib/python3.7/dist-packages/hydra/experimental/initialize.py:36: UserWarning: hydra.experimental.initialize() is no longer experimental. Use hydra.initialize()\n",
            "  message=\"hydra.experimental.initialize() is no longer experimental.\"\n",
            "/usr/local/lib/python3.7/dist-packages/hydra/experimental/compose.py:19: UserWarning: hydra.experimental.compose() is no longer experimental. Use hydra.compose()\n",
            "  message=\"hydra.experimental.compose() is no longer experimental.\"\n",
            "/usr/local/lib/python3.7/dist-packages/hydra/core/default_element.py:126: UserWarning: In 'config': Usage of deprecated keyword in package header '# @package _group_'.\n",
            "See https://hydra.cc/docs/next/upgrades/1.0_to_1.1/changes_to_package_header for more information\n",
            "  See {url} for more information\"\"\"\n",
            "/root/.cache/torch/hub/pytorch_fairseq_master/fairseq/checkpoint_utils.py:421: UserWarning: \n",
            "'config' is validated against ConfigStore schema with the same name.\n",
            "This behavior is deprecated in Hydra 1.1 and will be removed in Hydra 1.2.\n",
            "See https://hydra.cc/docs/next/upgrades/1.0_to_1.1/automatic_schema_matching for migration instructions.\n",
            "  state = load_checkpoint_to_cpu(filename, arg_overrides)\n",
            "/usr/local/lib/python3.7/dist-packages/hydra/compose.py:54: UserWarning: \n",
            "The strict flag in the compose API is deprecated and will be removed in the next version of Hydra.\n",
            "See https://hydra.cc/docs/upgrades/0.11_to_1.0/strict_mode_flag_deprecated for more info.\n",
            "\n",
            "  \"\"\"\n",
            "/root/.cache/torch/hub/pytorch_fairseq_master/fairseq/models/fairseq_model.py:272: UserWarning: \n",
            "'config' is validated against ConfigStore schema with the same name.\n",
            "This behavior is deprecated in Hydra 1.1 and will be removed in Hydra 1.2.\n",
            "See https://hydra.cc/docs/next/upgrades/1.0_to_1.1/automatic_schema_matching for migration instructions.\n",
            "  **kwargs,\n",
            "2022-02-23 10:57:45 | INFO | fairseq.tasks.translation | [en] dictionary: 32768 types\n",
            "2022-02-23 10:57:45 | INFO | fairseq.tasks.translation | [de] dictionary: 32768 types\n",
            "2022-02-23 10:57:48 | INFO | fairseq.models.fairseq_model | {'_name': None, 'common': {'_name': None, 'no_progress_bar': False, 'log_interval': 10, 'log_format': 'json', 'log_file': None, 'tensorboard_logdir': None, 'wandb_project': None, 'azureml_logging': False, 'seed': 2, 'cpu': False, 'tpu': False, 'bf16': False, 'memory_efficient_bf16': False, 'fp16': True, 'memory_efficient_fp16': False, 'fp16_no_flatten_grads': False, 'fp16_init_scale': 128, 'fp16_scale_window': None, 'fp16_scale_tolerance': 0.0, 'on_cpu_convert_precision': False, 'min_loss_scale': 0.0001, 'threshold_loss_scale': None, 'amp': False, 'amp_batch_retries': 2, 'amp_init_scale': 128, 'amp_scale_window': None, 'user_dir': None, 'empty_cache_freq': 0, 'all_gather_list_size': 16384, 'model_parallel_size': 1, 'quantization_config_path': None, 'profile': False, 'reset_logging': False, 'suppress_crashes': False, 'use_plasma_view': False, 'plasma_path': '/tmp/plasma'}, 'common_eval': {'_name': None, 'path': None, 'post_process': None, 'quiet': False, 'model_overrides': '{}', 'results_path': None}, 'distributed_training': {'_name': None, 'distributed_world_size': 128, 'distributed_num_procs': 1, 'distributed_rank': 0, 'distributed_backend': 'nccl', 'distributed_init_method': 'tcp://learnfair0487:59946', 'distributed_port': 59946, 'device_id': 0, 'distributed_no_spawn': False, 'ddp_backend': 'pytorch_ddp', 'ddp_comm_hook': 'none', 'bucket_cap_mb': 25, 'fix_batches_to_gpus': False, 'find_unused_parameters': False, 'gradient_as_bucket_view': False, 'fast_stat_sync': False, 'heartbeat_timeout': -1, 'broadcast_buffers': False, 'slowmo_momentum': None, 'slowmo_base_algorithm': 'localsgd', 'localsgd_frequency': 3, 'nprocs_per_node': 1, 'pipeline_model_parallel': False, 'pipeline_balance': None, 'pipeline_devices': None, 'pipeline_chunks': 0, 'pipeline_encoder_balance': None, 'pipeline_encoder_devices': None, 'pipeline_decoder_balance': None, 'pipeline_decoder_devices': None, 'pipeline_checkpoint': 'never', 'zero_sharding': 'none', 'fp16': True, 'memory_efficient_fp16': True, 'tpu': True, 'no_reshard_after_forward': False, 'fp32_reduce_scatter': False, 'cpu_offload': False, 'use_sharded_state': False, 'not_fsdp_flatten_parameters': False}, 'dataset': {'_name': None, 'num_workers': 1, 'skip_invalid_size_inputs_valid_test': False, 'max_tokens': 3584, 'batch_size': None, 'required_batch_size_multiple': 8, 'required_seq_len_multiple': 1, 'dataset_impl': None, 'data_buffer_size': 10, 'train_subset': 'train', 'valid_subset': 'valid', 'combine_valid_subsets': None, 'ignore_unused_valid_subsets': False, 'validate_interval': 1, 'validate_interval_updates': 0, 'validate_after_updates': 0, 'fixed_validation_seed': None, 'disable_validation': False, 'max_tokens_valid': 3584, 'batch_size_valid': None, 'max_valid_steps': None, 'curriculum': 0, 'gen_subset': 'test', 'num_shards': 1, 'shard_id': 0, 'grouped_shuffling': False, 'update_epoch_batch_itr': True, 'update_ordered_indices_seed': False}, 'optimization': {'_name': None, 'max_epoch': 0, 'max_update': 300000, 'stop_time_hours': 0.0, 'clip_norm': 0.0, 'sentence_avg': False, 'update_freq': [1], 'lr': [0.001], 'stop_min_lr': 1e-09, 'use_bmuf': False, 'skip_remainder_batch': False}, 'checkpoint': {'_name': None, 'save_dir': '/checkpoint02/myleott/2018-05-18/paracrawl_en_de.fp16.maxupd300000.upsamplewmt31.samp_wo_repl256000.transformer_wmt_en_de_big.shareemb.adam.beta0.9,0.98.initlr1e-07.warmup4000.lr0.001.clip0.0.drop0.3.wd0.0.ls0.1.maxtok3584.seed2.ngpu128', 'restore_file': 'checkpoint_last.pt', 'continue_once': None, 'finetune_from_model': None, 'reset_dataloader': False, 'reset_lr_scheduler': False, 'reset_meters': False, 'reset_optimizer': False, 'optimizer_overrides': '{}', 'save_interval': 1, 'save_interval_updates': 0, 'keep_interval_updates': -1, 'keep_interval_updates_pattern': -1, 'keep_last_epochs': -1, 'keep_best_checkpoints': -1, 'no_save': False, 'no_epoch_checkpoints': False, 'no_last_checkpoints': False, 'no_save_optimizer_state': False, 'best_checkpoint_metric': 'loss', 'maximize_best_checkpoint_metric': False, 'patience': -1, 'checkpoint_suffix': '', 'checkpoint_shard_count': 1, 'load_checkpoint_on_all_dp_ranks': False, 'write_checkpoints_asynchronously': False, 'model_parallel_size': 1}, 'bmuf': {'_name': None, 'block_lr': 1.0, 'block_momentum': 0.875, 'global_sync_iter': 50, 'warmup_iterations': 500, 'use_nbm': False, 'average_sync': False, 'distributed_world_size': 128}, 'generation': {'_name': None, 'beam': 5, 'nbest': 1, 'max_len_a': 0.0, 'max_len_b': 200, 'min_len': 1, 'match_source_len': False, 'unnormalized': False, 'no_early_stop': False, 'no_beamable_mm': False, 'lenpen': 1.0, 'unkpen': 0.0, 'replace_unk': None, 'sacrebleu': False, 'score_reference': False, 'prefix_size': 0, 'no_repeat_ngram_size': 0, 'sampling': False, 'sampling_topk': -1, 'sampling_topp': -1.0, 'constraints': None, 'temperature': 1.0, 'diverse_beam_groups': -1, 'diverse_beam_strength': 0.5, 'diversity_rate': -1.0, 'print_alignment': None, 'print_step': False, 'lm_path': None, 'lm_weight': 0.0, 'iter_decode_eos_penalty': 0.0, 'iter_decode_max_iter': 10, 'iter_decode_force_max_iter': False, 'iter_decode_with_beam': 1, 'iter_decode_with_external_reranker': False, 'retain_iter_history': False, 'retain_dropout': False, 'retain_dropout_modules': None, 'decoding_format': None, 'no_seed_provided': False}, 'eval_lm': {'_name': None, 'output_word_probs': False, 'output_word_stats': False, 'context_window': 0, 'softmax_batch': 9223372036854775807}, 'interactive': {'_name': None, 'buffer_size': 0, 'input': '-'}, 'model': Namespace(_name='transformer_wmt_en_de_big', activation_dropout=0.0, activation_fn='relu', adam_betas='(0.9, 0.98)', adam_eps=1e-08, adaptive_input=False, adaptive_softmax_cutoff=None, adaptive_softmax_dropout=0, arch='transformer_wmt_en_de_big', attention_dropout=0.1, bpe='subword_nmt', bpe_codes='/root/.cache/torch/pytorch_fairseq/b848fe211d8a6108a9447b57123f37e89fa342068cec2c5a30cdd03d0ae5d0ce.c9d184f84e1d6a47381624e5f0f9804fe85742f4998f5486cf5177dc59512b13/bpecodes', checkpoint_activations=False, clip_norm=0.0, criterion='label_smoothed_cross_entropy', cross_self_attention=False, data='/root/.cache/torch/pytorch_fairseq/b848fe211d8a6108a9447b57123f37e89fa342068cec2c5a30cdd03d0ae5d0ce.c9d184f84e1d6a47381624e5f0f9804fe85742f4998f5486cf5177dc59512b13', decoder_attention_heads=16, decoder_embed_dim=1024, decoder_embed_path=None, decoder_ffn_embed_dim=4096, decoder_input_dim=1024, decoder_layerdrop=0, decoder_layers=6, decoder_layers_to_keep=None, decoder_learned_pos=False, decoder_normalize_before=False, decoder_output_dim=1024, device_id=0, distributed_backend='nccl', distributed_init_method='tcp://learnfair0487:59946', distributed_port=59946, distributed_rank=0, distributed_world_size=128, dropout=0.3, encoder_attention_heads=16, encoder_embed_dim=1024, encoder_embed_path=None, encoder_ffn_embed_dim=4096, encoder_layerdrop=0, encoder_layers=6, encoder_layers_to_keep=None, encoder_learned_pos=False, encoder_normalize_before=False, fp16=True, label_smoothing=0.1, layernorm_embedding=False, log_format='json', log_interval=10, lr=[0.001], lr_scheduler='inverse_sqrt', lr_shrink=0.1, max_epoch=0, max_sentences=None, max_sentences_valid=None, max_source_positions=1024, max_target_positions=1024, max_tokens=3584, max_update=300000, momentum=0.99, no_cross_attention=False, no_epoch_checkpoints=False, no_progress_bar=False, no_save=False, no_scale_embedding=False, no_token_positional_embeddings=False, offload_activations=False, optimizer='adam', quant_noise_pq=0, quant_noise_pq_block_size=8, quant_noise_scalar=0, relu_dropout=0.0, restore_file='checkpoint_last.pt', sample_without_replacement=256000, save_dir='/checkpoint02/myleott/2018-05-18/paracrawl_en_de.fp16.maxupd300000.upsamplewmt31.samp_wo_repl256000.transformer_wmt_en_de_big.shareemb.adam.beta0.9,0.98.initlr1e-07.warmup4000.lr0.001.clip0.0.drop0.3.wd0.0.ls0.1.maxtok3584.seed2.ngpu128', save_interval=1, secondary_train_data='/private/home/myleott/data/paracrawl/en-de/paracrawl-release1.en-de.no_url.shuf_uniq_norm.scored.filtered.preprocessed', seed=2, sentence_avg=False, share_all_embeddings=True, share_decoder_input_output_embed=True, skip_invalid_size_inputs_valid_test=False, source_lang='en', stop_min_lr=1e-09, target_lang='de', task='translation', tie_adaptive_weights=False, train_subset='train', update_freq=[1.0], upsample_primary=31, valid_subset='valid', validate_interval=1, warmup_init_lr=1e-07, warmup_updates=4000, weight_decay=0.0), 'task': {'_name': 'translation', 'data': '/root/.cache/torch/pytorch_fairseq/b848fe211d8a6108a9447b57123f37e89fa342068cec2c5a30cdd03d0ae5d0ce.c9d184f84e1d6a47381624e5f0f9804fe85742f4998f5486cf5177dc59512b13', 'source_lang': 'en', 'target_lang': 'de', 'load_alignments': False, 'left_pad_source': True, 'left_pad_target': False, 'max_source_positions': 1024, 'max_target_positions': 1024, 'upsample_primary': 31, 'truncate_source': False, 'num_batch_buckets': 0, 'train_subset': 'train', 'dataset_impl': None, 'required_seq_len_multiple': 1, 'eval_bleu': False, 'eval_bleu_args': '{}', 'eval_bleu_detok': 'space', 'eval_bleu_detok_args': '{}', 'eval_tokenized_bleu': False, 'eval_bleu_remove_bpe': None, 'eval_bleu_print_samples': False}, 'criterion': {'_name': 'label_smoothed_cross_entropy', 'label_smoothing': 0.1, 'report_accuracy': False, 'ignore_prefix_size': 0, 'sentence_avg': False}, 'optimizer': {'_name': 'adam', 'adam_betas': '(0.9, 0.98)', 'adam_eps': 1e-08, 'weight_decay': 0.0, 'use_old_adam': False, 'fp16_adam_stats': False, 'tpu': True, 'lr': [0.001]}, 'lr_scheduler': {'_name': 'inverse_sqrt', 'warmup_updates': 4000, 'warmup_init_lr': 1e-07, 'lr': [0.001]}, 'scoring': None, 'bpe': {'_name': 'subword_nmt', 'bpe_codes': '/root/.cache/torch/pytorch_fairseq/b848fe211d8a6108a9447b57123f37e89fa342068cec2c5a30cdd03d0ae5d0ce.c9d184f84e1d6a47381624e5f0f9804fe85742f4998f5486cf5177dc59512b13/bpecodes', 'bpe_separator': '@@'}, 'tokenizer': None, 'ema': {'_name': None, 'store_ema': False, 'ema_decay': 0.9999, 'ema_start_update': 0, 'ema_seed_model': None, 'ema_update_freq': 1, 'ema_fp32': False}, 'simul_type': None}\n"
          ]
        },
        {
          "output_type": "stream",
          "name": "stdout",
          "text": [
            "INT: Pass rate is 100.0%.\n",
            "DEC: Pass rate is 93.75%.\n",
            "SEP: Pass rate is 70.0%.\n",
            "WORD: Pass rate is 13.33%.\n",
            "=================INT================\n",
            "=================DEC================\n",
            "Number is 0.861, translation results is Die Genomgröße des Coronavirus liegt bei etwa 0,81 . \n",
            "Number is 361.541, translation results is Die Genomgröße des Coronavirus beträgt etwa 361,51 . \n",
            "Number is 7.9932, translation results is Die Genomgröße des Coronavirus liegt bei etwa 7,992 . \n",
            "Number is 7.0804, translation results is Die Genomgröße des Coronavirus beträgt etwa 7.084 . \n",
            "Number is 840.9443, translation results is Die Genomgröße des Coronavirus beträgt etwa 840,943 . \n",
            "=================SEP================\n",
            "Number is 3576.735, translation results is Die Genomgröße des Coronavirus beträgt etwa 3.576,75 . \n",
            "Number is 6740.3775, translation results is Sie planten dann ein ehrgeiziges Open-Air-Konzert in Tokio , mit astage kostet 6,740,3775 Dollar . \n",
            "Number is 48693.11, translation results is Per Dezember 2019waren 48 693,11 Fälle von MERS-Co<unk> Infektion durch Labortests bestätigt worden . \n",
            "Number is 34888.564, translation results is Per Dezember 2019hatten 34.888.564 Fälle von MERS-Co<unk> Infektion durch Labortests bestätigt . \n",
            "Number is 18002.684, translation results is Die Genomgröße des Coronavirus beträgt ungefähr 18.002,68 . \n",
            "Number is 2053491.1689, translation results is Die Genomgröße des Coronavirus beträgt etwa 2.053.491.1689 . \n",
            "Number is 22844401.0664, translation results is Die Entfernung zwischen Sydney und Washington beträgt 22.844.401.0664 Meilensteine . \n",
            "Number is 24506265.2613, translation results is Die Genomgröße des Coronavirus beträgt etwa 24.506.265.2613 . \n",
            "Number is 185609147.268, translation results is Per Dezember 2019 wurden 185.609.147.268 Fälle von MERS-Co<unk> Infektion durch Labortests bestätigt . \n",
            "=================WORD================\n",
            "Number is 4801, translation results is Danach planten sie ein ehrgeiziges Open-Air-Konzert in Tokio mit einer Bühne , die viertausendachthundertundeine Dollar kostete . \n",
            "Number is 1944.5, translation results is Danach planten sie ein ehrgeiziges Open-Air-Konzert in Tokio mit einer Bühne , die eintausendneunhundertvierundvierzig Dollar kostete . \n",
            "Number is 7941, translation results is Die Gesamtsumme der Überweisungen beträgt siebentausend , neunhundertundvierzig einundvierzig . \n",
            "Number is 8764.65, translation results is Zum 8 . April 2020sind etwa achttausend , siebenhundertundvierundsechzig Punkte sechs fünf Schüler infolge von Schulschließungen als Reaktion auf die COVID-19 betroffen . \n",
            "Number is 12114.3371, translation results is Mit Stand vom 8 . April 2020sind etwa zwölftausend , vierundhundertunddreizehn Punkte drei dreiundsieben ein Schüler infolge von Schulschließungen als Reaktion auf die COVID-19 betroffen . \n",
            "Number is 52206.402, translation results is Die Gesamtsumme der Überweisungen beträgt zweiundfünfzig Tausend , zweihundertundsechzig Punkt vier Null zweiundfünfzig . \n",
            "Number is 60994.5677, translation results is CDC wurden Fallberichtsformulare für durchschnittlich 60.000 , 9vierundneunzig Punkte fünf sechs sieben Fälle pro Tag vorgelegt . \n",
            "Number is 32340.89, translation results is Bis Dezember 2019 wurden zweiunddreißigtausend , dreihundertundvierzig Punkte acht neun Fälle von MERS-Co<unk> Infektion durch Labortests bestätigt . \n",
            "Number is 542129, translation results is Ab Dezember 2019 wurden 5zweihundertundvierzigtausend , einhundertundneunundzwanzig Fälle von MERS-Co<unk> Infektionen durch Labortests bestätigt . \n",
            "Number is 985641, translation results is Die Gesamtsumme der Überweisungen beläuft sich auf 985 Tausendundsechzigtausend , sechshundertundvierzig Einsendungen . \n",
            "Number is 704763, translation results is Danach planten sie ein ehrgeiziges Open-Air-Konzert in Tokio mit einer Bühne , die siebenhunderttausend , siebenhundertunddreiundsechzig Dollar kostete . \n",
            "Number is 8198628.5, translation results is Zum 8 . April 2020sind etwa acht Millionen , achtundneunundneunzigtausend , sechshundertundachtundzwanzig Punkte fünf Schüler infolge von Schulschließungen als Reaktion auf die COVID-19 betroffen . \n",
            "Number is 4282433, translation results is Ab Dezember 2019 wurden vier Millionen , zweihunderttausendunddreiunddreiunddreißigste Fälle von MERS-Co<unk> Infektion durch Labortests bestätigt . \n",
            "Number is 1625325.0001, translation results is Am 8. April 202020sind etwa eine Million , sechshundertundfünfundzwanzigtausend , dreihundertundfünfundzwanzig Nullpunkte ein Schüler durch Schulschließungen als Reaktion auf COVID-19 betroffen . \n",
            "Number is 7727090, translation results is Danach planten sie ein ehrgeiziges Open-Air-Konzert in Tokio mit einer Bühne , die sieben Millionen , siebenhundertundsiebenundneunzig Dollar kostete . \n",
            "Number is 1488209, translation results is CDC wurden Fallberichtsformulare für durchschnittlich eine Million , vierhundertachtundachtzigtausend , zweihundertundneun Fälle pro Tag vorgelegt . \n",
            "Number is 96671722, translation results is Ab Dezember 2019 waren sechsundneunzig Millionen , sechshundertundsiebzigtausend , siebenhundertundzweiundzwanzig Fälle von MERS-Co<unk> Infektion durch Labortests bestätigt worden . \n",
            "Number is 41451681.225, translation results is Ab Dezember 2019 wurden 41 Millionen , vierhunderteinundfünfzigtausend , sechshundertundeinundachtzig Punkt zwei zwei Fünfundvierzig Fälle von MERS-Co<unk> Infektion durch Labortests bestätigt . \n",
            "Number is 34748370.064, translation results is Zum 8 . April 202020sind etwa 34 Millionen , siebenhundertachtundvierzigtausend , dreihundertundsiebzig Punkt Null sechs vier Schüler infolge von Schulschließungen als Reaktion auf COVID-19 betroffen . \n",
            "Number is 94517554, translation results is Am 8 . April 202020sind etwa 94 Millionen , fünfhundertundsiebzehntausend , fünfhundertundvierundfünfzig Schüler infolge von Schulschließungen als Reaktion auf die COVID-19 betroffen . \n",
            "Number is 96092200.6, translation results is Im Dezember 2019 wurden sechsundneunzig Millionen , zweiundneunzigtausend , zweihundert Punkte sechs Fälle von MERS-Co<unk> Infektion durch Labortests bestätigt . \n",
            "Number is 907259673, translation results is Danach planten sie ein ehrgeiziges Open-Air-Konzert in Tokio mit einer Bühne , die neunhundertundsiebzig Millionen , zweihundertneunundfünfzigtausend , sechshundertunddreiundsiebzig Dollar kostete . \n",
            "Number is 603087800.0, translation results is Zum 8 . April 202020sind etwa sechshundertunddreimillionensiebenundachtzigtausend und achthundert Schüler infolge von Schulschließungen als Reaktion auf die COVID-19 betroffen . \n",
            "Number is 931024005.95, translation results is CDC wurden Fallberichtsformulare für durchschnittlich neunhundertunddreißigmillionen- , vierundfünfundzwanzigtausend und neunundfünfzig Fälle pro Tag vorgelegt . \n",
            "Number is 103396567, translation results is Ab Dezember 2019 wurden einhundertunddreiundneunzigtausend , fünfhundertundsiebenundsechzig Fälle von MERS-Co<unk> Infektion durch Labortests bestätigt . \n",
            "Number is 680011818, translation results is Seit Dezember 2019wurden sechshundertachtzig Millionen , elftausendachtundachtzehn Fälle von MERS-Co<unk> Infektion durch Labortests bestätigt . \n"
          ]
        }
      ]
    },
    {
      "cell_type": "code",
      "source": [
        ""
      ],
      "metadata": {
        "colab": {
          "base_uri": "https://localhost:8080/"
        },
        "id": "SOYeKs1rGEfR",
        "outputId": "b29cdae1-ab16-4028-cdd6-d401d9eb608d"
      },
      "execution_count": null,
      "outputs": [
        {
          "output_type": "stream",
          "name": "stdout",
          "text": [
            "Requirement already satisfied: hydra-core in /usr/local/lib/python3.7/dist-packages (1.1.1)\n",
            "Requirement already satisfied: importlib-resources in /usr/local/lib/python3.7/dist-packages (from hydra-core) (5.4.0)\n",
            "Requirement already satisfied: omegaconf==2.1.* in /usr/local/lib/python3.7/dist-packages (from hydra-core) (2.1.1)\n",
            "Requirement already satisfied: antlr4-python3-runtime==4.8 in /usr/local/lib/python3.7/dist-packages (from hydra-core) (4.8)\n",
            "Requirement already satisfied: PyYAML>=5.1.0 in /usr/local/lib/python3.7/dist-packages (from omegaconf==2.1.*->hydra-core) (6.0)\n",
            "Requirement already satisfied: zipp>=3.1.0 in /usr/local/lib/python3.7/dist-packages (from importlib-resources->hydra-core) (3.7.0)\n",
            "Requirement already satisfied: omegaconf in /usr/local/lib/python3.7/dist-packages (2.1.1)\n",
            "Requirement already satisfied: antlr4-python3-runtime==4.8 in /usr/local/lib/python3.7/dist-packages (from omegaconf) (4.8)\n",
            "Requirement already satisfied: PyYAML>=5.1.0 in /usr/local/lib/python3.7/dist-packages (from omegaconf) (6.0)\n",
            "Requirement already satisfied: bitarray in /usr/local/lib/python3.7/dist-packages (2.3.7)\n",
            "Requirement already satisfied: fairseq in /usr/local/lib/python3.7/dist-packages (0.10.2)\n",
            "Requirement already satisfied: tqdm in /usr/local/lib/python3.7/dist-packages (from fairseq) (4.62.3)\n",
            "Requirement already satisfied: torch in /usr/local/lib/python3.7/dist-packages (from fairseq) (1.8.0)\n",
            "Requirement already satisfied: hydra-core in /usr/local/lib/python3.7/dist-packages (from fairseq) (1.1.1)\n",
            "Requirement already satisfied: cffi in /usr/local/lib/python3.7/dist-packages (from fairseq) (1.15.0)\n",
            "Requirement already satisfied: numpy in /usr/local/lib/python3.7/dist-packages (from fairseq) (1.21.5)\n",
            "Requirement already satisfied: dataclasses in /usr/local/lib/python3.7/dist-packages (from fairseq) (0.6)\n",
            "Requirement already satisfied: cython in /usr/local/lib/python3.7/dist-packages (from fairseq) (0.29.28)\n",
            "Requirement already satisfied: regex in /usr/local/lib/python3.7/dist-packages (from fairseq) (2019.12.20)\n",
            "Requirement already satisfied: sacrebleu>=1.4.12 in /usr/local/lib/python3.7/dist-packages (from fairseq) (2.0.0)\n",
            "Requirement already satisfied: portalocker in /usr/local/lib/python3.7/dist-packages (from sacrebleu>=1.4.12->fairseq) (2.4.0)\n",
            "Requirement already satisfied: tabulate>=0.8.9 in /usr/local/lib/python3.7/dist-packages (from sacrebleu>=1.4.12->fairseq) (0.8.9)\n",
            "Requirement already satisfied: colorama in /usr/local/lib/python3.7/dist-packages (from sacrebleu>=1.4.12->fairseq) (0.4.4)\n",
            "Requirement already satisfied: pycparser in /usr/local/lib/python3.7/dist-packages (from cffi->fairseq) (2.21)\n",
            "Requirement already satisfied: omegaconf==2.1.* in /usr/local/lib/python3.7/dist-packages (from hydra-core->fairseq) (2.1.1)\n",
            "Requirement already satisfied: importlib-resources in /usr/local/lib/python3.7/dist-packages (from hydra-core->fairseq) (5.4.0)\n",
            "Requirement already satisfied: antlr4-python3-runtime==4.8 in /usr/local/lib/python3.7/dist-packages (from hydra-core->fairseq) (4.8)\n",
            "Requirement already satisfied: PyYAML>=5.1.0 in /usr/local/lib/python3.7/dist-packages (from omegaconf==2.1.*->hydra-core->fairseq) (6.0)\n",
            "Requirement already satisfied: zipp>=3.1.0 in /usr/local/lib/python3.7/dist-packages (from importlib-resources->hydra-core->fairseq) (3.7.0)\n",
            "Requirement already satisfied: typing-extensions in /usr/local/lib/python3.7/dist-packages (from torch->fairseq) (3.10.0.2)\n",
            "Collecting subword-nmt\n",
            "  Downloading subword_nmt-0.3.8-py3-none-any.whl (27 kB)\n",
            "Collecting mock\n",
            "  Downloading mock-4.0.3-py3-none-any.whl (28 kB)\n",
            "Requirement already satisfied: tqdm in /usr/local/lib/python3.7/dist-packages (from subword-nmt) (4.62.3)\n",
            "Installing collected packages: mock, subword-nmt\n",
            "Successfully installed mock-4.0.3 subword-nmt-0.3.8\n"
          ]
        }
      ]
    }
  ]
}