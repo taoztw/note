{
 "cells": [
  {
   "cell_type": "markdown",
   "metadata": {},
   "source": [
    "## 巨大梯度传给输入w\n",
    "\n",
    "假设有一个神经网络的输入W遵循某种分布，对于一组固定的参数（样本），w的分布也就是ReLU的输入的分布。假设ReLU输入是一个低方差中心在+0.1的高斯分布。\n",
    "\n",
    "在这个场景下：\n",
    "\n",
    "大多数ReLU的输入是正数，因此\n",
    "大多数输入经过ReLU函数能得到一个正值（ReLU is open），因此\n",
    "大多数输入能够反向传播通过ReLU得到一个梯度，因此\n",
    "ReLU的输入（w）一般都能得到更新通过随机反向传播（SGD）\n",
    "\n",
    "\n",
    "现在，假设在随机反向传播的过程中，有一个巨大的梯度经过ReLU，由于ReLU是打开的，将会有一个巨大的梯度传给输入（w）。这会引起输入w巨大的变化，也就是说输入w的分布会发生变化，假设输入w的分布现在变成了一个低方差的，中心在-0.1高斯分布。\n",
    "\n",
    "在这个场景下：\n",
    "\n",
    "大多数ReLU的输入是负数，因此\n",
    "大多数输入经过ReLU函数能得到一个0（ReLU is close）,因此\n",
    "大多数输入不能反向传播通过ReLU得到一个梯度，因此\n",
    "ReLU的输入w一般都得不到更新通过随机反向传播（SGD）\n",
    "发生了什么？只是ReLU函数的输入的分布函数发生了很小的改变（-0.2的改变），导致了ReLU函数行为质的改变。我们越过了0这个边界，ReLU函数几乎永久的关闭了。更重要的是ReLU函数一旦关闭，参数w就得不到更新，这就是所谓的‘dying ReLU’。"
   ]
  },
  {
   "cell_type": "markdown",
   "metadata": {},
   "source": [
    "## learing rate较大\n",
    "\n",
    "![1](photo/dead1.png)\n",
    "\n",
    "![2](photo/dead2.png)\n",
    "\n",
    "意思就是，当learing rate较大时，遇到负例，预测值要变小，所以w权重会变得很小，会导致样本在某一结点处，全部输出为负数，梯度为0。。。"
   ]
  }
 ],
 "metadata": {
  "kernelspec": {
   "display_name": "Python 3",
   "language": "python",
   "name": "python3"
  },
  "language_info": {
   "codemirror_mode": {
    "name": "ipython",
    "version": 3
   },
   "file_extension": ".py",
   "mimetype": "text/x-python",
   "name": "python",
   "nbconvert_exporter": "python",
   "pygments_lexer": "ipython3",
   "version": "3.6.8"
  }
 },
 "nbformat": 4,
 "nbformat_minor": 2
}
