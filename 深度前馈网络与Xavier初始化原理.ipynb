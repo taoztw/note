{
 "cells": [
  {
   "cell_type": "markdown",
   "metadata": {},
   "source": [
    "https://www.jiqizhixin.com/articles/2018-07-12-3"
   ]
  },
  {
   "cell_type": "markdown",
   "metadata": {},
   "source": [
    "## 前向计算"
   ]
  },
  {
   "cell_type": "markdown",
   "metadata": {},
   "source": [
    "![前向](photo/前向.jpg)\n",
    "\n",
    "前向计算就是线性映射和非线性映射交替的过程。"
   ]
  },
  {
   "cell_type": "markdown",
   "metadata": {},
   "source": [
    "## 误差反向传播"
   ]
  },
  {
   "cell_type": "markdown",
   "metadata": {},
   "source": [
    "**本质就是：链式求导+梯度下降**\n",
    "\n",
    "误差反向传播到某**非线性映射层**的**输出**时，只需要乘上该非线性映射函数在z点的导数就算跨过这一层啦。\n",
    "当误差反向传播到**线性映射层**的**输出**时，若想跨过该层，只需要乘以线性映射函数的参数就可以啦~即乘上w。\n",
    "\n",
    "![误差反向传播](photo/bp.png)"
   ]
  },
  {
   "cell_type": "markdown",
   "metadata": {},
   "source": [
    "## Xavier"
   ]
  },
  {
   "cell_type": "markdown",
   "metadata": {},
   "source": [
    "**为什么初始化成全0就不行了呢？**全0的时候每个神经元的输入和输出没有任何的差异，换句话说，根据前面BP算法的讲解，这样会导致误差根本无法从后一层往前传（乘以全0的w后误差就没了），这样的model当然没有任何意义。\n",
    "\n",
    "> 如何既保证输入输出的差异性，又能让model稳定而快速的收敛呢？\n",
    "\n",
    "![1](photo/xavier1.png)\n",
    "![2](photo/xavier2.png)"
   ]
  }
 ],
 "metadata": {
  "kernelspec": {
   "display_name": "Python 3",
   "language": "python",
   "name": "python3"
  },
  "language_info": {
   "codemirror_mode": {
    "name": "ipython",
    "version": 3
   },
   "file_extension": ".py",
   "mimetype": "text/x-python",
   "name": "python",
   "nbconvert_exporter": "python",
   "pygments_lexer": "ipython3",
   "version": "3.6.8"
  }
 },
 "nbformat": 4,
 "nbformat_minor": 2
}
