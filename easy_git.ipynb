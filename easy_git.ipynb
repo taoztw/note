{
 "cells": [
  {
   "cell_type": "markdown",
   "metadata": {},
   "source": [
    "# 简易Git教程"
   ]
  },
  {
   "cell_type": "markdown",
   "metadata": {},
   "source": [
    "## 1. 配置Git\n",
    "\n",
    "git config --global user.name \"username\"\n",
    "\n",
    "git config --global user.email \"username@qq.com\""
   ]
  },
  {
   "cell_type": "markdown",
   "metadata": {},
   "source": [
    "## 2. 创建文件夹，并初始化\n",
    "\n",
    "mkdir git_test\n",
    "\n",
    "cd git_test\n",
    "\n",
    "vim test.py\n",
    "\n",
    "vim .gitignore #\"_pycache_\" ,让Git忽略目录__pycache__中的文件\n",
    "\n",
    "### 初始化仓库\n",
    "git init\n",
    "\n",
    "### 检查状态\n",
    "git status"
   ]
  },
  {
   "cell_type": "markdown",
   "metadata": {},
   "source": [
    "## 3. 将文件添加到仓库中\n",
    "git add .  #将项目中未被跟踪的所有文件都加入到仓库中，可以git status查看状态\n"
   ]
  },
  {
   "cell_type": "markdown",
   "metadata": {},
   "source": [
    "## 4. 执行提交\n",
    "git commit -m \"First commit\""
   ]
  },
  {
   "cell_type": "markdown",
   "metadata": {},
   "source": [
    "### 查看提交历史\n",
    "git log\n"
   ]
  },
  {
   "cell_type": "markdown",
   "metadata": {},
   "source": [
    "> ## 修改代码进行第二次提交"
   ]
  },
  {
   "cell_type": "markdown",
   "metadata": {},
   "source": [
    "\n",
    "git status #查看状态，发现修改"
   ]
  },
  {
   "cell_type": "markdown",
   "metadata": {},
   "source": [
    "git commit -am \"Second\" #-a 让git所有修改的文件都计入到当前的提交中  -m让git记录一条消息"
   ]
  },
  {
   "cell_type": "markdown",
   "metadata": {},
   "source": [
    "> ## 撤销修改"
   ]
  },
  {
   "cell_type": "markdown",
   "metadata": {},
   "source": [
    "git checkout . #放弃自最后一次提交后所做的所有修改，将项目恢复到最后一次提交的状态\n",
    "\n",
    "检查出以前的修改 git log\n",
    "git checkout 45e45 #离开master分支， 回到master：git checkout master"
   ]
  },
  {
   "cell_type": "markdown",
   "metadata": {},
   "source": [
    "git reset --hard 85q12 #指定永久的恢复到的提交的引用的前六个字符"
   ]
  },
  {
   "cell_type": "markdown",
   "metadata": {},
   "source": [
    "> ## 删除仓库"
   ]
  },
  {
   "cell_type": "markdown",
   "metadata": {},
   "source": [
    "#### 删除仓库的历史修改记录\n",
    "删除.git目录\n",
    "\n",
    "rm -rf .git\n",
    "\n",
    "git init\n",
    "\n",
    "仓库中原本的文件并没有删除 重新提交即可\n",
    "\n",
    "git add .\n",
    "\n",
    "git commit -m \"start over\""
   ]
  },
  {
   "cell_type": "markdown",
   "metadata": {},
   "source": [
    "> ## 远程库\n",
    "\n",
    "要关联一个远程库，使用命令git remote add origin git@server-name:path/repo-name.git；\n",
    "\n",
    "关联后，使用命令git push -u origin master第一次推送master分支的所有内容；\n",
    "\n",
    "此后，每次本地提交后，只要有必要，就可以使用命令git push origin master推送最新修改；"
   ]
  }
 ],
 "metadata": {
  "kernelspec": {
   "display_name": "Python 3",
   "language": "python",
   "name": "python3"
  },
  "language_info": {
   "codemirror_mode": {
    "name": "ipython",
    "version": 3
   },
   "file_extension": ".py",
   "mimetype": "text/x-python",
   "name": "python",
   "nbconvert_exporter": "python",
   "pygments_lexer": "ipython3",
   "version": "3.7.3"
  }
 },
 "nbformat": 4,
 "nbformat_minor": 2
}
