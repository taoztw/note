{
 "cells": [
  {
   "cell_type": "markdown",
   "metadata": {},
   "source": [
    "# Numpy"
   ]
  },
  {
   "cell_type": "markdown",
   "metadata": {},
   "source": [
    "##### 核心：ndarray类(多维数组) ，数组的所有元素必须是同一类型"
   ]
  },
  {
   "cell_type": "markdown",
   "metadata": {},
   "source": [
    "**Numpy.eye()** \n",
    "\n",
    " numpy.eye(N, M=None, k=0, dtype=<class 'float'>, order='C')\n",
    " > N: 行数\n",
    " \n",
    " > M: 列数 默认和行数相等\n",
    " \n",
    " > k: 对角线位置偏离度，1为主对角线\n",
    " \n",
    " > dtype: 数字类型\n",
    " \n",
    " > order: {C,F} row-major(C-style) or column-major(F-style)\n",
    " \n",
    " > **Returns**: 一个array，除了k对角线的元素为1，其余全为0.\n",
    " \n",
    "\n",
    "\n",
    " \n",
    "**Numpy.identity**\n",
    "\n",
    "np.identity(n,dtype=None) \n",
    "\n",
    "> returns : n维方阵\n",
    "\n",
    "\n",
    "**Numpy.linspace**\n",
    "\n",
    " numpy.linspace(start, stop, num=50, endpoint=True, retstep=False, dtype=None, axis=0)\n",
    " \n",
    " > start: 序列开始\n",
    " \n",
    " > stop: 序列结束\n",
    " \n",
    " > num: 序列数目\n",
    " \n",
    " > endpoint: 是否包括给定的stop值\n",
    " \n",
    " > retstep: 如果是true,返回(ndarray,step) step:样本空间的大小\n",
    " \n",
    " > **return** samples:ndarray  or 如果retstep=true: return (samples,step)\n",
    " \n",
    " "
   ]
  },
  {
   "cell_type": "code",
   "execution_count": 12,
   "metadata": {},
   "outputs": [
    {
     "name": "stdout",
     "output_type": "stream",
     "text": [
      "===================================================================================================================\n"
     ]
    }
   ],
   "source": [
    "print(\"=\"*115)"
   ]
  },
  {
   "cell_type": "markdown",
   "metadata": {},
   "source": [
    "# SciPy"
   ]
  },
  {
   "cell_type": "markdown",
   "metadata": {},
   "source": [
    "##### 稀疏矩阵sparse matrice： scipy.sparse \n",
    "> scikit-learn利用SciPy中的函数集实现算法"
   ]
  },
  {
   "cell_type": "code",
   "execution_count": 13,
   "metadata": {},
   "outputs": [
    {
     "name": "stdout",
     "output_type": "stream",
     "text": [
      "===================================================================================================================\n"
     ]
    }
   ],
   "source": [
    "print(\"=\"*115)"
   ]
  },
  {
   "cell_type": "markdown",
   "metadata": {},
   "source": [
    "# matplotlib"
   ]
  },
  {
   "cell_type": "markdown",
   "metadata": {},
   "source": [
    "> ###### 小知识\n",
    "    > %matplotlib inline / %matplotlib notebook 将图像直接显示在浏览器上,如果没有,就需要*plt.show*显示图像"
   ]
  },
  {
   "cell_type": "code",
   "execution_count": 4,
   "metadata": {},
   "outputs": [
    {
     "data": {
      "text/plain": [
       "[<matplotlib.lines.Line2D at 0x7f9f03b54128>]"
      ]
     },
     "execution_count": 4,
     "metadata": {},
     "output_type": "execute_result"
    },
    {
     "data": {
      "image/png": "[encoded data removed]",
      "text/plain": [
       "<Figure size 432x288 with 1 Axes>"
      ]
     },
     "metadata": {},
     "output_type": "display_data"
    }
   ],
   "source": [
    "%matplotlib inline\n",
    "import numpy as np\n",
    "import matplotlib.pyplot as plt\n",
    "\n",
    "x = np.linspace(-10,10,100)\n",
    "y = np.sin(x)\n",
    "#plot函数绘制折线图\n",
    "plt.plot(x, y, marker='o') #marker图中点的标记样式"
   ]
  },
  {
   "cell_type": "code",
   "execution_count": 14,
   "metadata": {},
   "outputs": [
    {
     "name": "stdout",
     "output_type": "stream",
     "text": [
      "===================================================================================================================\n"
     ]
    }
   ],
   "source": [
    "print(\"=\"*115)"
   ]
  },
  {
   "cell_type": "markdown",
   "metadata": {},
   "source": [
    "# pandas"
   ]
  },
  {
   "cell_type": "markdown",
   "metadata": {},
   "source": [
    "> pandas用于处理分析数据的python库.基于DataFrame(二维)结构,相当于一个表格\n",
    ".pandas中可以修改表格,操作表格,查询和连接数据,从SQL,Excel,csv等文件中提取数据."
   ]
  },
  {
   "cell_type": "code",
   "execution_count": 16,
   "metadata": {},
   "outputs": [
    {
     "name": "stdout",
     "output_type": "stream",
     "text": [
      "===================================================================================================================\n"
     ]
    }
   ],
   "source": [
    "print(\"=\"*115)"
   ]
  },
  {
   "cell_type": "markdown",
   "metadata": {},
   "source": [
    "# mglearn"
   ]
  },
  {
   "cell_type": "markdown",
   "metadata": {},
   "source": [
    "> 快速美化绘图."
   ]
  }
 ],
 "metadata": {
  "kernelspec": {
   "display_name": "Python 3",
   "language": "python",
   "name": "python3"
  },
  "language_info": {
   "codemirror_mode": {
    "name": "ipython",
    "version": 3
   },
   "file_extension": ".py",
   "mimetype": "text/x-python",
   "name": "python",
   "nbconvert_exporter": "python",
   "pygments_lexer": "ipython3",
   "version": "3.6.5"
  }
 },
 "nbformat": 4,
 "nbformat_minor": 2
}
