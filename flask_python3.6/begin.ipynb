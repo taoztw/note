{
 "cells": [
  {
   "cell_type": "markdown",
   "metadata": {},
   "source": [
    "## 环境的配置\n",
    "\n",
    "1. 首先安装python3.6以上的版本\n",
    "2. 安装pipenv \n",
    "`sudo pip install --user pipenv //这样将pipenv下载到~/local/bin文件中,然后将该文件添加到.profile文件中即可:vim .profile AND export PATH=$PATH:~/.local/bin`\n",
    "3. 在工程目录下 `pipenv install`\n",
    "![pipenv](../photo/pipenvinstall.png)\n",
    "\n",
    "> To activate this project's virtualenv, run pipenv shell\n",
    "4. 启动pipenv 安装项目包。 `pipenv install flask`\n",
    "\n",
    " - 卸载 `pipenv uninstall flask`\n",
    " - 退出 exit\n",
    " - 软件包依赖关系 pipenv graph\n",
    "\n",
    "## 工具安装\n",
    "1. pycharm\n",
    "2. Xampp -> MySQL\n",
    "3. Navicat 数据库可视化管理工具\n",
    "\n",
    "## 环境配置\n",
    "`pipenv --venv` 查看虚拟环境路径\n",
    "> /home/tzone/.local/share/virtualenvs/fisher-M_H0keWs"
   ]
  },
  {
   "cell_type": "markdown",
   "metadata": {},
   "source": [
    "## flask唯一url原则\n",
    "兼容用户路径多加一个/,使用301重定向。\n",
    "普通访问\n",
    "![url1](../photo/url1.png)\n",
    "加/访问\n",
    "![url2](../photo/url2.png)\n",
    "遵循唯一url原则。\n"
   ]
  },
  {
   "cell_type": "markdown",
   "metadata": {},
   "source": [
    "## 路由的另一种方法和原理\n",
    "\n",
    "更新代码自动重启服务器：`app.run(debug=True)`\n",
    "\n",
    "**chrom浏览器有数据缓存**，如果访问**not found**可以清除浏览器缓存chrome://settings/clearBrowserData?search=%E6%B8%85%E9%99%A4%E6%B5%8F%E8%A7%88\n",
    "\n",
    "#app.add_url_rule('/hello', view_func=hello) #另一种注册路由的方法\n",
    "\n",
    "> 路由注册原理：\n",
    "\n",
    "(查看源码 ctrl+b)\n",
    "![decorator](../photo/decorator.png)\n",
    "\n"
   ]
  },
  {
   "cell_type": "markdown",
   "metadata": {},
   "source": [
    "## app.run相关参数与flask配置文件\n",
    "\n",
    "> host='0.0.0.0' #所有局域网IP均可访问\n",
    "> port= #修改端口号\n",
    "\n",
    "flask配置文件相对自由\n",
    "创建一个config.py ，然后`app.config.from_object('config')`引入配置文件，`app.run(host=app.config['HOST'], debug=app.config['DEBUG'])`指定参数。\n",
    "\n",
    "这里app.config是一个dict的字类，config中参数名称必须大写，如果小写会被忽略掉。"
   ]
  },
  {
   "cell_type": "markdown",
   "metadata": {},
   "source": [
    "## if __name__= '__main__':\n",
    "\n",
    "![main](../photo/main.png)\n",
    "\n",
    "```python\n",
    "if __name__ == '__main__':\n",
    "    # 生产环境 nginx + uwsgi\n",
    "    app.run(host=app.config['HOST'], debug=app.config['DEBUG'])\n",
    "\n",
    "```\n",
    "一般使用nginx接受web请求，然后使用uwssgi加载相关模块文件启动flask相关代码，所以生产环境下app.run不会执行的。"
   ]
  },
  {
   "cell_type": "markdown",
   "metadata": {},
   "source": [
    "## 视图函数renturn response对象\n",
    "\n",
    "视图函数返回值是一个response对象\n",
    "```python\n",
    "from flask import make_response\n",
    "\n",
    "def hello():\n",
    "    headers = {\n",
    "        'content-type': 'text/plain',\n",
    "        'location': 'https://www.baidu.com'\n",
    "    }\n",
    "    response = make_response('<html></html>', 301)\n",
    "    response.headers = headers\n",
    "    return response\n",
    "```\n",
    "如果要提供json格式的数据\n",
    "在response headers：`content-type: 'application/json'`\n",
    "\n",
    "**另一种相对简单返回方法**：\n",
    "`return 'content',301,headers` #没有使用response对象(本质都是resposne)，这里逗号分割的参数，是一个元祖，如果要返回cookie也是调用response下的setcookie方法。\n"
   ]
  },
  {
   "cell_type": "markdown",
   "metadata": {},
   "source": [
    "## 路由传参\n",
    "1. `@app.route('/book/search/<q>/<page>')`"
   ]
  },
  {
   "cell_type": "markdown",
   "metadata": {},
   "source": [
    "## 深度理解flask路由\n",
    "\n",
    "> 1. 如何通过url访问到视图函数的？\n",
    "\n",
    "url - endpoint - viewfunction\n",
    "\n",
    "一个url会有一个endpoint还会有一个视图函数。\n",
    "\n",
    "endpoint用来反向构建url。\n",
    "\n",
    "`app.add_url_rule(‘url’,view_func=,endpoint=) `如果不传endpoint则会把视图函数的函数名作为endpoint的默认值。\n",
    "\n",
    "### 调试\n",
    ">  把DEBUG调试模式改为False,启动调试的话，将会把整体代码执行两次，会有一个restart过程。\n",
    "\n",
    "ctrl B进入源码,在app/web/book.py app.route()源码处打一个断点，\n"
   ]
  },
  {
   "cell_type": "markdown",
   "metadata": {},
   "source": [
    "## Request\n"
   ]
  },
  {
   "cell_type": "markdown",
   "metadata": {},
   "source": [
    "from flask import request\n",
    "\n",
    "request:中包含HTTP的请求信息，查询参数，POST参数，remote ip等信息\n",
    "\n",
    "exampel：\n",
    "http://**.com?q=1&?page=2\n",
    "\n",
    "q = request.args['q']\n",
    "\n",
    "page = request.args['page']\n",
    "\n",
    "args是一个不可变字典。\n",
    "\n",
    "通过request.args.to_dict()可以将args转换为一个可变字典。"
   ]
  },
  {
   "cell_type": "markdown",
   "metadata": {},
   "source": [
    "# wtforms参数验证"
   ]
  },
  {
   "cell_type": "markdown",
   "metadata": {},
   "source": [
    "> pip install wtforms\n",
    "\n",
    "**验证层**\n",
    "```python\n",
    "\n",
    "from wtforms import Form, StringField, IntegerField\n",
    "from wtforms.validators import Length, NumberRange, DataRequired\n",
    "\n",
    "\n",
    "class SearchForm(Form):\n",
    "    q = StringField(validators=[DataRequired(),Length(min=1, max=20)])\n",
    "    page = IntegerField(validators=[NumberRange(min=1, max=10)], default=1)\n",
    "```"
   ]
  },
  {
   "cell_type": "code",
   "execution_count": null,
   "metadata": {},
   "outputs": [],
   "source": []
  }
 ],
 "metadata": {
  "kernelspec": {
   "display_name": "Python 3",
   "language": "python",
   "name": "python3"
  },
  "language_info": {
   "codemirror_mode": {
    "name": "ipython",
    "version": 3
   },
   "file_extension": ".py",
   "mimetype": "text/x-python",
   "name": "python",
   "nbconvert_exporter": "python",
   "pygments_lexer": "ipython3",
   "version": "3.6.8"
  }
 },
 "nbformat": 4,
 "nbformat_minor": 2
}
