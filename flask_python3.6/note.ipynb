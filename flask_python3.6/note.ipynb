{
 "cells": [
  {
   "cell_type": "markdown",
   "metadata": {},
   "source": [
    "## 环境的配置\n",
    "\n",
    "1. 首先安装python3.6以上的版本\n",
    "2. 安装pipenv \n",
    "`sudo pip install --user pipenv //这样将pipenv下载到~/local/bin文件中,然后将该文件添加到.profile文件中即可:vim .profile AND export PATH=$PATH:~/.local/bin`\n",
    "3. 在工程目录下 `pipenv install`\n",
    "![pipenv](../photo/pipenvinstall.png)\n",
    "\n",
    "> To activate this project's virtualenv, run pipenv shell\n",
    "4. 启动pipenv 安装项目包。 `pipenv install flask`\n",
    "\n",
    " - 卸载 `pipenv uninstall flask`\n",
    " - 退出 exit\n",
    " - 软件包依赖关系 pipenv graph\n",
    "\n",
    "## 工具安装\n",
    "1. pycharm \n",
    "\n",
    "查看源代码 ctrl+b\n",
    "\n",
    "2. Xampp -> MySQL\n",
    "3. Navicat 数据库可视化管理工具\n",
    "\n",
    "## 环境配置\n",
    "`pipenv --venv` 查看虚拟环境路径\n",
    "> /home/tzone/.local/share/virtualenvs/fisher-M_H0keWs"
   ]
  },
  {
   "cell_type": "markdown",
   "metadata": {},
   "source": [
    "## flask唯一url原则\n",
    "兼容用户路径多加一个/,使用301重定向。\n",
    "普通访问\n",
    "![url1](../photo/url1.png)\n",
    "加/访问\n",
    "![url2](../photo/url2.png)\n",
    "遵循唯一url原则。\n"
   ]
  },
  {
   "cell_type": "markdown",
   "metadata": {},
   "source": [
    "## 路由的另一种方法和原理\n",
    "\n",
    "更新代码自动重启服务器：`app.run(debug=True)`\n",
    "\n",
    "**chrom浏览器有数据缓存**，如果访问**not found**可以清除浏览器缓存chrome://settings/clearBrowserData?search=%E6%B8%85%E9%99%A4%E6%B5%8F%E8%A7%88\n",
    "\n",
    "#app.add_url_rule('/hello', view_func=hello) #另一种注册路由的方法\n",
    "\n",
    "> 路由注册原理：\n",
    "\n",
    "(查看源码 ctrl+b)\n",
    "![decorator](../photo/decorator.png)\n",
    "\n"
   ]
  },
  {
   "cell_type": "markdown",
   "metadata": {},
   "source": [
    "## app.run相关参数与flask配置文件\n",
    "\n",
    "> host='0.0.0.0' #所有局域网IP均可访问\n",
    "> port= #修改端口号\n",
    "\n",
    "flask配置文件相对自由\n",
    "创建一个config.py ，然后`app.config.from_object('config')`引入配置文件，`app.run(host=app.config['HOST'], debug=app.config['DEBUG'])`指定参数。\n",
    "\n",
    "这里app.config是一个dict的字类，config中参数名称必须大写，如果小写会被忽略掉。"
   ]
  },
  {
   "cell_type": "markdown",
   "metadata": {},
   "source": [
    "## if __name__= '__main__':\n",
    "\n",
    "![main](../photo/main.png)\n",
    "\n",
    "```python\n",
    "if __name__ == '__main__':\n",
    "    # 生产环境 nginx + uwsgi\n",
    "    app.run(host=app.config['HOST'], debug=app.config['DEBUG'])\n",
    "\n",
    "```\n",
    "一般使用nginx接受web请求，然后使用uwssgi加载相关模块文件启动flask相关代码，所以生产环境下app.run不会执行的。"
   ]
  },
  {
   "cell_type": "markdown",
   "metadata": {},
   "source": [
    "## 视图函数renturn response对象\n",
    "\n",
    "视图函数返回值是一个response对象\n",
    "```python\n",
    "from flask import make_response\n",
    "\n",
    "def hello():\n",
    "    headers = {\n",
    "        'content-type': 'text/plain',\n",
    "        'location': 'https://www.baidu.com'\n",
    "    }\n",
    "    response = make_response('<html></html>', 301)\n",
    "    response.headers = headers\n",
    "    return response\n",
    "```\n",
    "如果要提供json格式的数据\n",
    "在response headers：`content-type: 'application/json'`\n",
    "\n",
    "**另一种相对简单返回方法**：\n",
    "`return 'content',301,headers` #没有使用response对象(本质都是resposne)，这里逗号分割的参数，是一个元祖，如果要返回cookie也是调用response下的setcookie方法。\n"
   ]
  },
  {
   "cell_type": "markdown",
   "metadata": {},
   "source": [
    "## 路由传参\n",
    "1. `@app.route('/book/search/<q>/<page>')`"
   ]
  },
  {
   "cell_type": "markdown",
   "metadata": {},
   "source": [
    "## 深度理解flask路由\n",
    "\n",
    "> 1. 如何通过url访问到视图函数的？\n",
    "\n",
    "url - endpoint - viewfunction\n",
    "\n",
    "一个url会有一个endpoint还会有一个视图函数。\n",
    "\n",
    "endpoint用来反向构建url。\n",
    "\n",
    "`app.add_url_rule(‘url’,view_func=,endpoint=) `如果不传endpoint则会把视图函数的函数名作为endpoint的默认值。\n",
    "\n",
    "### 调试\n",
    ">  把DEBUG调试模式改为False,启动调试的话，将会把整体代码执行两次，会有一个restart过程。\n",
    "\n",
    "ctrl B进入源码,在app/web/book.py app.route()源码处打一个断点，\n"
   ]
  },
  {
   "cell_type": "markdown",
   "metadata": {},
   "source": [
    "## Request\n"
   ]
  },
  {
   "cell_type": "markdown",
   "metadata": {},
   "source": [
    "from flask import request\n",
    "\n",
    "request:中包含HTTP的请求信息，查询参数，POST参数，remote ip等信息\n",
    "\n",
    "exampel：\n",
    "http://**.com?q=1&?page=2\n",
    "\n",
    "q = request.args['q']\n",
    "\n",
    "page = request.args['page']\n",
    "\n",
    "args是一个不可变字典。\n",
    "\n",
    "通过request.args.to_dict()可以将args转换为一个可变字典。"
   ]
  },
  {
   "cell_type": "markdown",
   "metadata": {},
   "source": [
    "# wtforms参数验证"
   ]
  },
  {
   "cell_type": "markdown",
   "metadata": {},
   "source": [
    "> pip install wtforms\n",
    "\n",
    "**验证层**\n",
    "```python\n",
    "\n",
    "from wtforms import Form, StringField, IntegerField\n",
    "from wtforms.validators import Length, NumberRange, DataRequired\n",
    "\n",
    "\n",
    "class SearchForm(Form):\n",
    "    q = StringField(validators=[DataRequired(),Length(min=1, max=20)])\n",
    "    page = IntegerField(validators=[NumberRange(min=1, max=10)], default=1)\n",
    "```"
   ]
  },
  {
   "cell_type": "markdown",
   "metadata": {},
   "source": [
    "# 创建数据表"
   ]
  },
  {
   "cell_type": "markdown",
   "metadata": {},
   "source": [
    "1. database first \n",
    "2. Model First\n",
    "3. code first "
   ]
  },
  {
   "cell_type": "markdown",
   "metadata": {},
   "source": [
    "模型层 MVC\n",
    "\n",
    "首先安装flask_sqlalchemy 映射数据库表 pipenv install \n",
    "\n",
    "code 只关注业务模型,而不是数据库设计, (数据库只是存储数据的,表关系应该由我们的业务来决定)\n",
    "\n",
    "ORM对象关系映射 : 包含的问题广阔,包含数据的查询删除和更新.\n",
    "\n",
    "code first 创建数据的问题"
   ]
  },
  {
   "cell_type": "markdown",
   "metadata": {},
   "source": [
    "# 难点"
   ]
  },
  {
   "cell_type": "markdown",
   "metadata": {},
   "source": [
    "## flask working outside application context\n",
    "\n",
    "## flask 上下文 出入栈"
   ]
  },
  {
   "cell_type": "markdown",
   "metadata": {},
   "source": [
    "```python\n",
    "\n",
    "from flask import Flask,current_app,request,Request\n",
    "\n",
    "app = Flask(__name__) # app: <Flask 'test'>\n",
    "\n",
    "a = current_app   # a:<localProxy unbound>\n",
    "d = current_app.config['DEBUG']\n",
    "```\n",
    "\n",
    "**上下文**\n",
    "\n",
    "应用上下文 对象  Falsk\n",
    "\n",
    "请求上下文 对象  Request\n",
    "\n",
    "Flask 核心对象,注册路由,视图函数, AppContext 对Flask对象的封装(包含对象以外的内容)\n",
    "\n",
    "Request RequestContext\n",
    "\n",
    "![flask_app](./flask_app.png)\n",
    "\n",
    "\n",
    "Request Context入栈时,flask会检测_app_ctx_stack有没有应用上下文对象,如果没有的话,flask会帮你把应用上下文推入到栈中来,所以说 如果是在请求中引用current_app是不需要把app上下文推入到栈中,falsk会帮你推.\n",
    "\n",
    "\n",
    "```python\n",
    "app = Flask(__name__)\n",
    "ctx  = app.app_context()\n",
    "ctx.push()\n",
    "a = current_app\n",
    "d = current_app.config['DEBUG']\n",
    "ctx.pop()\n",
    "```\n",
    "\n",
    "```python\n",
    "\n",
    "with app.app_context():   # app_context返回一个上下文管理器 AppContext(object) 实现了__enter__和__exit__方法 push()和pop()\n",
    "    a = current_app\n",
    "    d = current_app.config['DEBUG']\n",
    "```\n",
    "\n",
    "**with 语句**\n",
    "\n",
    "对实现了上下文协议的对象使用with,\n",
    "\n",
    "上下文管理器.实现了 `__enter__ 和 __exit__ `\n",
    "\n",
    "上下文表达式返回上下文管理器\n",
    "\n",
    "1. 连接数据库  写到 `__enter__`\n",
    "2. sql ()\n",
    "3. 释放资源(释放数据库连接)  写到 `__exit__`\n",
    "try  :sql\n",
    "except\n",
    "finally 释放资源\n",
    "\n",
    "```python\n",
    "\n",
    "#文件读写\n",
    "try:\n",
    "    f = open(r'path')\n",
    "    print(f.read())\n",
    "finally:\n",
    "    f.close()\n",
    "    \n",
    "with open(r'') as f:   #open(r'')上下文表达式\n",
    "    print(f.read())\n",
    "```\n",
    "\n",
    "```python\n",
    "class A:\n",
    "    def __enter__(self):\n",
    "        a = 1\n",
    "        # return a\n",
    "    def __exit__(self):\n",
    "        b = 2\n",
    "with A() as obj_A: #obj_A 是一个空对象 是__enter__方法返回的对象 \n",
    "    pass\n",
    "```\n",
    "\n",
    "----\n",
    "```python\n",
    "class MyResource:\n",
    "    def __enter__(self):\n",
    "        print('connect to resource')\n",
    "        return self\n",
    "\n",
    "    def __exit__(self, exc_type, exc_val, exc_tb):\n",
    "        if exc_tb:\n",
    "            print('process exception')\n",
    "        else:\n",
    "            print('No exception')\n",
    "        print('close resource connection')\n",
    "        # return True\n",
    "        return False  # no return也是抛出异常\n",
    "\n",
    "    def query(self):\n",
    "        print('query data')\n",
    "\n",
    "try:\n",
    "    with MyResource() as resource:\n",
    "        1/0\n",
    "        resource.query()\n",
    "except Exception as e:\n",
    "    print('catch')\n",
    "    pass\n",
    "```\n"
   ]
  },
  {
   "cell_type": "code",
   "execution_count": 1,
   "metadata": {},
   "outputs": [
    {
     "name": "stdout",
     "output_type": "stream",
     "text": [
      "connect to resource\n",
      "process exception\n",
      "close resource connection\n",
      "catch\n"
     ]
    }
   ],
   "source": [
    "class MyResource:\n",
    "    def __enter__(self):\n",
    "        print('connect to resource')\n",
    "        return self\n",
    "\n",
    "    def __exit__(self, exc_type, exc_val, exc_tb):\n",
    "        if exc_tb:\n",
    "            print('process exception')\n",
    "        else:\n",
    "            print('No exception')\n",
    "        print('close resource connection')\n",
    "        # return True\n",
    "        return False  # no return也是抛出异常\n",
    "\n",
    "    def query(self):\n",
    "        print('query data')\n",
    "\n",
    "try:\n",
    "    with MyResource() as resource:\n",
    "        1/0\n",
    "        resource.query()\n",
    "except Exception as e:\n",
    "    print('catch')\n",
    "    pass"
   ]
  },
  {
   "cell_type": "markdown",
   "metadata": {},
   "source": [
    "# 多线程"
   ]
  },
  {
   "cell_type": "markdown",
   "metadata": {},
   "source": [
    "python不能充分利用多核cpu优势\n",
    "\n",
    "GIL全局解释器锁\n",
    "\n",
    "锁机制:    \n",
    "\n",
    "        细粒度锁: 程序员  主动加锁\n",
    "        粗粒度锁: 解释器 GIL bytecode单位执行\n",
    "\n",
    "GIL 是 cpython解释器的实现 在jpython没有实现\n",
    "\n",
    "可以开启多进程,使用进程通信技术.(难)\n",
    "\n",
    "```python\n",
    "import time\n",
    "import threading\n",
    "\n",
    "\n",
    "def worker():\n",
    "    print('I am thread')\n",
    "    t = threading.current_thread()\n",
    "    time.sleep(8)\n",
    "    print(t.getName())\n",
    "\n",
    "\n",
    "new_t = threading.Thread(target=worker, name='test_thread')\n",
    "new_t.start()\n",
    "\n",
    "\n",
    "t = threading.current_thread()\n",
    "print(t.getName())  # MainThread\n",
    "```"
   ]
  },
  {
   "cell_type": "markdown",
   "metadata": {},
   "source": [
    "**对于IO密集型的程序,多线程是有意义的**\n",
    "\n",
    "CPU密集型程序: 程序严重依赖CPU计算\n",
    "IO密集型程序: 查询数据库,请求网络资源,读写文件.\n",
    "\n",
    "IO密集型的程序的重要特征就是等待.  等待数据返回的时间可以让其他程序执行(多线程)\n"
   ]
  },
  {
   "cell_type": "markdown",
   "metadata": {},
   "source": [
    "## flask 多线程"
   ]
  },
  {
   "cell_type": "markdown",
   "metadata": {},
   "source": [
    " flask web框架\n",
    " \n",
    " flask 内置 webserver 默认以**单进程单线程**方式. (方便调试的)\n",
    " \n",
    " **线程隔离思想** : 不同的请求对应不同的线程,不同的线程在字典中隔离; request = {thread_key1:Request1,...}\n",
    " \n",
    " \n",
    "在flask中 werkzeug库 local模块 Local使用字典的方式实现了线程隔离\n",
    "\n",
    "Local是一个线程隔离对象,对Local对象的操作是相互不影响的.\n",
    "\n",
    "线程隔离对象的使用:\n",
    "\n",
    "---\n",
    "\n",
    "```python\n",
    "import threading\n",
    "import time\n",
    "from werkzeug.local import Local\n",
    "\n",
    "my_obj = Local() # 线程隔离的对象\n",
    "my_obj.b = 1\n",
    "\n",
    "\n",
    "def worker():\n",
    "    # 新线程\n",
    "    my_obj.b = 2\n",
    "    print('in new thread b is : ' + str(my_obj.b))\n",
    "\n",
    "\n",
    "new_t = threading.Thread(target=worker)\n",
    "new_t.start()\n",
    "time.sleep(1)\n",
    "\n",
    "# 主线程\n",
    "print(\"in main thread b is : \" + str(my_obj.b))\n",
    "\n",
    "#in new thread b is : 2\n",
    "#in main thread b is : 1\n",
    "```\n",
    "\n",
    "---\n",
    "\n",
    "![flask_app](./flask_app.png)\n",
    "\n",
    "---\n",
    "\n",
    "Local 可以当做一个普通对象一样,通过点来操作\n",
    "\n",
    "localStack 线程隔离的栈结构,push方法来操作来生成线性隔离对象.\n",
    "\n",
    "push,pop,top(不会删除栈顶的元素 属性)\n",
    "\n",
    "两个线程有两个栈\n",
    "\n",
    "```python\n",
    "import threading\n",
    "import time\n",
    "from werkzeug.local import Local, LocalStack\n",
    "my_stack = LocalStack()\n",
    "my_stack.push(1)\n",
    "print('in man thread after push, value is : ' + str(my_stack.top))\n",
    "\n",
    "\n",
    "def worker():\n",
    "    # 新线程\n",
    "    print('in new thread before push, value is : ' + str(my_stack.top))\n",
    "    my_stack.push(2)\n",
    "    print('in new thread after push, value is : ' + str(my_stack.top))\n",
    "\n",
    "\n",
    "new_t = threading.Thread(target=worker)\n",
    "new_t.start()\n",
    "time.sleep(1)\n",
    "\n",
    "# 主线程\n",
    "print('finally, in main thread value is : ' + str(my_stack.top))\n",
    "```\n",
    "\n",
    "线程隔离的意义: 使当前线程能够正确引用到他自己所创建的对象,而不是引用到其他线程所创建的对象."
   ]
  },
  {
   "cell_type": "markdown",
   "metadata": {},
   "source": [
    "名词:\n",
    "        \n",
    "        线程ID号作为key的字典 -> Local -> LocalStack\n",
    "        AppContext RequestContext 两个上下文 请求进来时候会被推入到 LocalStack 栈中去,请求结束时会被pop出来\n",
    "        Flask 作为AppContext的属性 Request 同样也作为RequestContext属性封装保存起来\n",
    "        current_app -> LocalStack.top(栈顶元素).app(的app属性)=Flask\n",
    "        request -> LocalStack.top.request = Request"
   ]
  },
  {
   "cell_type": "markdown",
   "metadata": {},
   "source": [
    " # ViewModel"
   ]
  },
  {
   "cell_type": "markdown",
   "metadata": {},
   "source": [
    "对原始数据: 裁剪,修饰,合并\n",
    "\n",
    "对 BookViewModel 面向对象(类是基本单位)分析: 一个类要有描述特征(类变量,实例变量),行为(方法);面向过程编码中函数是基本单位.\n"
   ]
  },
  {
   "cell_type": "markdown",
   "metadata": {},
   "source": [
    "## json dumps序列化"
   ]
  },
  {
   "cell_type": "markdown",
   "metadata": {},
   "source": [
    "python中的字典可以被序列化\n",
    "\n",
    "![dict](./json.png)\n",
    "\n",
    "json.dumps(books, default=lambda o: o.__dict__)\n",
    "\n",
    "将代码的解释权 交给函数的调用方"
   ]
  },
  {
   "cell_type": "markdown",
   "metadata": {},
   "source": [
    "## 单页面和网站的区别"
   ]
  },
  {
   "cell_type": "markdown",
   "metadata": {},
   "source": [
    "单页面渲染是在客户端进行的,通过js\n",
    "\n",
    "普通网站是在服务器端进行的\n",
    "\n",
    "![website](./website.png)"
   ]
  },
  {
   "cell_type": "markdown",
   "metadata": {},
   "source": []
  },
  {
   "cell_type": "markdown",
   "metadata": {},
   "source": [
    "# flask静态文件"
   ]
  },
  {
   "cell_type": "markdown",
   "metadata": {},
   "source": [
    "### 静态文件访问原理\n",
    "\n",
    "改变应用程序级别的静态文件,在flask核心对象实例化时 指定位置 \n",
    "\n",
    "蓝图级别 修改蓝图对象实例化参数.\n",
    "\n",
    "static_folder=''  # 静态文件目录   Ex: /model/statics -> /statics (访问路径)\n",
    "\n",
    "static_url_path='' # 访问静态文件url path \n",
    "\n",
    "\n",
    "### 模板\n",
    "\n",
    "\n",
    "render_template('test.html',data=r)\n",
    "\n",
    "同理可以修改template_folder"
   ]
  },
  {
   "cell_type": "markdown",
   "metadata": {},
   "source": []
  },
  {
   "cell_type": "markdown",
   "metadata": {},
   "source": [
    "# 模板语言 Jinja2"
   ]
  },
  {
   "cell_type": "markdown",
   "metadata": {},
   "source": [
    "layout.html: 基模板\n",
    "\n",
    "----\n",
    "```html5 \n",
    "<!DOCTYPE html>\n",
    "<html lang=\"en\">\n",
    "<head>\n",
    "    <meta charset=\"UTF-8\">\n",
    "    <title>Title</title>\n",
    "</head>\n",
    "<body>\n",
    "\n",
    "    {% block head %}\n",
    "        <div>This is head</div>\n",
    "    {% endblock %}\n",
    "\n",
    "    {% block content %}\n",
    "    继承\n",
    "    {% endblock %}\n",
    "\n",
    "    {% block foot %}\n",
    "        <div>This is foot</div>\n",
    "    {% endblock %}\n",
    "</body>\n",
    "</html>\n",
    "```\n",
    "---\n",
    "\n",
    "test.html\n",
    "```\n",
    "{% extends 'layout.html' %} \n",
    "{% block content %}\n",
    "    {{ super() }}  # 模板继承\n",
    "    {{data.name}}\n",
    "    {{data.age}}\n",
    "    {% if data.age < 18 %}  #if语句\n",
    "        {{ data.name}}\n",
    "    {% elif data.age==18 %}\n",
    "        do something\n",
    "    {% else %}\n",
    "        {{ data.age }}\n",
    "    {% endif %}\n",
    "\n",
    "    {% for key,value in data.items() %}  # for语句\n",
    "        {{ key }}\n",
    "        {{ value }}\n",
    "    {% endfor %}\n",
    "{% endblock %}\n",
    "```\n",
    "\n",
    "\n",
    "---\n",
    "\n",
    "default 过滤器\n",
    "\n",
    "{{ data.name == None | default('为名') }}   管道命令的传值方式.\n",
    "\n",
    "过滤器的使用: {{data | length() }} \n",
    "\n",
    "\n",
    "#### 在html页面加载静态文件 url_for()\n",
    "```html\n",
    "<link rel='stylesheet' href=\"http://127.0.0.1:81/static/test.csss\">\n",
    "<link rel='stylesheet' href=\"/static/test.css\">\n",
    "\n",
    "<link rel='stylesheet' href=\"{{ url_for('static',filename='test.css'}}\">\n",
    "<!-- 生成上述第一个 href 路径 -->\n",
    "```\n",
    "\n",
    "#### 消息闪现 flash()\n",
    "\n",
    "```\n",
    "flash(message,category='error')\n",
    "\n",
    "模板: {% set messages = get_flashed_messages() %}\n",
    "\n",
    "{% with messages = get_flashed_messages() %}\n",
    "{{message}}          # with缩小了变量的作用域\n",
    "{% endwith %}\n",
    "```\n"
   ]
  },
  {
   "cell_type": "markdown",
   "metadata": {},
   "source": [
    "# flask_login"
   ]
  },
  {
   "cell_type": "markdown",
   "metadata": {},
   "source": [
    "**login_user**:\n",
    "\n",
    "\tuser实例： UserMixin的get_id方法获取user的id\n",
    "\t\n",
    "\t在session中写入 user_id , _fresh , _id_cookie的唯一标识\n",
    "\n",
    "\t发出用户登录的信号， 调用_get_user 方法: request stack中是否有user对象，如果没有则调用LoginManager的_load_user方法；如果有，结束登录流程，进入_update_remember_cookie函数中 ，如果勾选了remember则写入cookie，即使没有勾选remember，那么浏览器也会被写入一段cookie，这其实是flask的session，flask的session实现很特殊，不保存在服务器，而在浏览器的cookie中。\n",
    "\n",
    "\n",
    "![flask_login](./flask_login.png)\n",
    "\n",
    "\n",
    "current_user 代表当前访问网站的用户，是实例化后的User的模型。定义的get_user function函数实现把id号转换为User模型\n",
    "\n",
    "---\n",
    "\n",
    "用户鉴权成功后，会将User对象保存在当前的request context当中，这时我们调用_get_user函数时就会直接从request context中获取user对象return getattr(_request_ctx_stack.top, 'user', None)\n",
    "\n",
    "但如果是非首次登陆，当前request context中并没有保存user对象，就需要调用current_app.login_manager._load_user()来去load user对象"
   ]
  },
  {
   "cell_type": "markdown",
   "metadata": {},
   "source": [
    "# contextmanager"
   ]
  },
  {
   "cell_type": "code",
   "execution_count": 1,
   "metadata": {},
   "outputs": [
    {
     "name": "stdout",
     "output_type": "stream",
     "text": [
      "connect to resource\n",
      "query data\n",
      "close resource connection\n"
     ]
    }
   ],
   "source": [
    "from contextlib import contextmanager\n",
    "\n",
    "class MyResource:\n",
    "    \n",
    "    def query(self):\n",
    "        print('query data')\n",
    "        \n",
    "\n",
    "@contextmanager   # 通过contextmanager 来将类封装成一个上下文管理器。\n",
    "def make_myresourcec():\n",
    "    print('connect to resource')\n",
    "    yield MyResource()  # 产生中断\n",
    "    print('close resource connection')\n",
    "    \n",
    "with make_myresourcec() as r:\n",
    "    r.query()"
   ]
  },
  {
   "cell_type": "code",
   "execution_count": 5,
   "metadata": {},
   "outputs": [
    {
     "name": "stdout",
     "output_type": "stream",
     "text": [
      "《code》"
     ]
    }
   ],
   "source": [
    "# 自动为书名加入书名号\n",
    "\n",
    "from contextlib import contextmanager\n",
    "\n",
    "@contextmanager\n",
    "def book_mark():\n",
    "    print('《', end='')\n",
    "    yield \n",
    "    print('》', end='')\n",
    "    \n",
    "with book_mark():\n",
    "    print('code', end='')"
   ]
  },
  {
   "cell_type": "code",
   "execution_count": null,
   "metadata": {},
   "outputs": [],
   "source": []
  },
  {
   "cell_type": "markdown",
   "metadata": {},
   "source": [
    "# 业务逻辑是写在model层中"
   ]
  },
  {
   "cell_type": "code",
   "execution_count": null,
   "metadata": {},
   "outputs": [],
   "source": []
  },
  {
   "cell_type": "markdown",
   "metadata": {},
   "source": [
    "# first_or_404  callable"
   ]
  },
  {
   "cell_type": "markdown",
   "metadata": {},
   "source": [
    "封装了first()\n",
    "\n",
    "通过Abort对象抛出异常。 （HTTPException子类）\n",
    "\n",
    "\n",
    "可调用对象的机制，在类中实现__call__(self,)方法\n",
    "\n",
    "\n",
    "![callable](callable.png)"
   ]
  },
  {
   "cell_type": "markdown",
   "metadata": {},
   "source": [
    "# 数据库设计模型的设计： 有关联和无关联"
   ]
  },
  {
   "cell_type": "markdown",
   "metadata": {},
   "source": [
    "![drift](drift.png)"
   ]
  },
  {
   "cell_type": "code",
   "execution_count": null,
   "metadata": {},
   "outputs": [],
   "source": []
  },
  {
   "cell_type": "code",
   "execution_count": null,
   "metadata": {},
   "outputs": [],
   "source": []
  },
  {
   "cell_type": "code",
   "execution_count": null,
   "metadata": {},
   "outputs": [],
   "source": []
  },
  {
   "cell_type": "markdown",
   "metadata": {},
   "source": [
    "## 首先要了解telnet协议\n",
    "\n",
    "1. 介绍： 它是TCP/IP协议族的成员，是Internet远程登录服务的标准协议和主要方式。通俗一点的说几句是**远程控制**web服务器的办法。这个服务的端口是23默认端口。\n",
    "\n",
    "当你用Telnet登录进入远程计算机系统时，你事实上启动了两个程序，一个叫**Telnet客户程序**，它运行在你的本地机上，另一个叫**Telnet服务器程序**，它运行在你要登录的远程计算机上，本地机上的客户程序要完成如下功能：\n",
    "\n",
    "1) 建立与服务器的TCP联接。\n",
    "\n",
    "2) 从键盘上接收你输入的字符。\n",
    "\n",
    "3) 把你输入的字符串变成标准格式并送给远程服务器。\n",
    "\n",
    "4) 从远程服务器接收输出的信息。\n",
    "\n",
    "5) 把该信息显示在你的屏幕上。\n",
    "\n",
    "2. 如何使用： 首先在电脑上开始 telnet服务，就可以在cmd上输入telnet 用户名和密码来连接web服务器来进行管理。当然所连接的主机也要开启telnet的服务。这里的服务 客户端是telnet客户端 服务器是telnet服务端。\n",
    "\n",
    "\n",
    "\n",
    "\n",
    "       \n"
   ]
  }
 ],
 "metadata": {
  "kernelspec": {
   "display_name": "Python 3",
   "language": "python",
   "name": "python3"
  },
  "language_info": {
   "codemirror_mode": {
    "name": "ipython",
    "version": 3
   },
   "file_extension": ".py",
   "mimetype": "text/x-python",
   "name": "python",
   "nbconvert_exporter": "python",
   "pygments_lexer": "ipython3",
   "version": "3.6.8"
  }
 },
 "nbformat": 4,
 "nbformat_minor": 2
}
