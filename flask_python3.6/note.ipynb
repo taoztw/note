{
 "cells": [
  {
   "cell_type": "markdown",
   "metadata": {},
   "source": [
    "## 环境的配置\n",
    "\n",
    "1. 首先安装python3.6以上的版本\n",
    "2. 安装pipenv \n",
    "`sudo pip install --user pipenv //这样将pipenv下载到~/local/bin文件中,然后将该文件添加到.profile文件中即可:vim .profile AND export PATH=$PATH:~/.local/bin`\n",
    "3. 在工程目录下 `pipenv install`\n",
    "![pipenv](../photo/pipenvinstall.png)\n",
    "\n",
    "> To activate this project's virtualenv, run pipenv shell\n",
    "4. 启动pipenv 安装项目包。 `pipenv install flask`\n",
    "\n",
    " - 卸载 `pipenv uninstall flask`\n",
    " - 退出 exit\n",
    " - 软件包依赖关系 pipenv graph\n",
    "\n",
    "## 工具安装\n",
    "1. pycharm \n",
    "\n",
    "查看源代码 ctrl+b\n",
    "\n",
    "2. Xampp -> MySQL\n",
    "3. Navicat 数据库可视化管理工具\n",
    "\n",
    "## 环境配置\n",
    "`pipenv --venv` 查看虚拟环境路径\n",
    "> /home/tzone/.local/share/virtualenvs/fisher-M_H0keWs"
   ]
  },
  {
   "cell_type": "markdown",
   "metadata": {},
   "source": [
    "## flask唯一url原则\n",
    "兼容用户路径多加一个/,使用301重定向。\n",
    "普通访问\n",
    "![url1](../photo/url1.png)\n",
    "加/访问\n",
    "![url2](../photo/url2.png)\n",
    "遵循唯一url原则。\n"
   ]
  },
  {
   "cell_type": "markdown",
   "metadata": {},
   "source": [
    "## 路由的另一种方法和原理\n",
    "\n",
    "更新代码自动重启服务器：`app.run(debug=True)`\n",
    "\n",
    "**chrom浏览器有数据缓存**，如果访问**not found**可以清除浏览器缓存chrome://settings/clearBrowserData?search=%E6%B8%85%E9%99%A4%E6%B5%8F%E8%A7%88\n",
    "\n",
    "#app.add_url_rule('/hello', view_func=hello) #另一种注册路由的方法\n",
    "\n",
    "> 路由注册原理：\n",
    "\n",
    "(查看源码 ctrl+b)\n",
    "![decorator](../photo/decorator.png)\n",
    "\n"
   ]
  },
  {
   "cell_type": "markdown",
   "metadata": {},
   "source": [
    "## app.run相关参数与flask配置文件\n",
    "\n",
    "> host='0.0.0.0' #所有局域网IP均可访问\n",
    "> port= #修改端口号\n",
    "\n",
    "flask配置文件相对自由\n",
    "创建一个config.py ，然后`app.config.from_object('config')`引入配置文件，`app.run(host=app.config['HOST'], debug=app.config['DEBUG'])`指定参数。\n",
    "\n",
    "这里app.config是一个dict的字类，config中参数名称必须大写，如果小写会被忽略掉。"
   ]
  },
  {
   "cell_type": "markdown",
   "metadata": {},
   "source": [
    "## if __name__= '__main__':\n",
    "\n",
    "![main](../photo/main.png)\n",
    "\n",
    "```python\n",
    "if __name__ == '__main__':\n",
    "    # 生产环境 nginx + uwsgi\n",
    "    app.run(host=app.config['HOST'], debug=app.config['DEBUG'])\n",
    "\n",
    "```\n",
    "一般使用nginx接受web请求，然后使用uwssgi加载相关模块文件启动flask相关代码，所以生产环境下app.run不会执行的。"
   ]
  },
  {
   "cell_type": "markdown",
   "metadata": {},
   "source": [
    "## 视图函数renturn response对象\n",
    "\n",
    "视图函数返回值是一个response对象\n",
    "```python\n",
    "from flask import make_response\n",
    "\n",
    "def hello():\n",
    "    headers = {\n",
    "        'content-type': 'text/plain',\n",
    "        'location': 'https://www.baidu.com'\n",
    "    }\n",
    "    response = make_response('<html></html>', 301)\n",
    "    response.headers = headers\n",
    "    return response\n",
    "```\n",
    "如果要提供json格式的数据\n",
    "在response headers：`content-type: 'application/json'`\n",
    "\n",
    "**另一种相对简单返回方法**：\n",
    "`return 'content',301,headers` #没有使用response对象(本质都是resposne)，这里逗号分割的参数，是一个元祖，如果要返回cookie也是调用response下的setcookie方法。\n"
   ]
  },
  {
   "cell_type": "markdown",
   "metadata": {},
   "source": [
    "## 路由传参\n",
    "1. `@app.route('/book/search/<q>/<page>')`"
   ]
  },
  {
   "cell_type": "markdown",
   "metadata": {},
   "source": [
    "## 深度理解flask路由\n",
    "\n",
    "> 1. 如何通过url访问到视图函数的？\n",
    "\n",
    "url - endpoint - viewfunction\n",
    "\n",
    "一个url会有一个endpoint还会有一个视图函数。\n",
    "\n",
    "endpoint用来反向构建url。\n",
    "\n",
    "`app.add_url_rule(‘url’,view_func=,endpoint=) `如果不传endpoint则会把视图函数的函数名作为endpoint的默认值。\n",
    "\n",
    "### 调试\n",
    ">  把DEBUG调试模式改为False,启动调试的话，将会把整体代码执行两次，会有一个restart过程。\n",
    "\n",
    "ctrl B进入源码,在app/web/book.py app.route()源码处打一个断点，\n"
   ]
  },
  {
   "cell_type": "markdown",
   "metadata": {},
   "source": [
    "## Request\n"
   ]
  },
  {
   "cell_type": "markdown",
   "metadata": {},
   "source": [
    "from flask import request\n",
    "\n",
    "request:中包含HTTP的请求信息，查询参数，POST参数，remote ip等信息\n",
    "\n",
    "exampel：\n",
    "http://**.com?q=1&?page=2\n",
    "\n",
    "q = request.args['q']\n",
    "\n",
    "page = request.args['page']\n",
    "\n",
    "args是一个不可变字典。\n",
    "\n",
    "通过request.args.to_dict()可以将args转换为一个可变字典。"
   ]
  },
  {
   "cell_type": "markdown",
   "metadata": {},
   "source": [
    "# wtforms参数验证"
   ]
  },
  {
   "cell_type": "markdown",
   "metadata": {},
   "source": [
    "> pip install wtforms\n",
    "\n",
    "**验证层**\n",
    "```python\n",
    "\n",
    "from wtforms import Form, StringField, IntegerField\n",
    "from wtforms.validators import Length, NumberRange, DataRequired\n",
    "\n",
    "\n",
    "class SearchForm(Form):\n",
    "    q = StringField(validators=[DataRequired(),Length(min=1, max=20)])\n",
    "    page = IntegerField(validators=[NumberRange(min=1, max=10)], default=1)\n",
    "```"
   ]
  },
  {
   "cell_type": "markdown",
   "metadata": {},
   "source": [
    "# 创建数据表"
   ]
  },
  {
   "cell_type": "markdown",
   "metadata": {},
   "source": [
    "1. database first \n",
    "2. Model First\n",
    "3. code first "
   ]
  },
  {
   "cell_type": "markdown",
   "metadata": {},
   "source": [
    "模型层 MVC\n",
    "\n",
    "首先安装flask_sqlalchemy 映射数据库表 pipenv install \n",
    "\n",
    "code 只关注业务模型,而不是数据库设计, (数据库只是存储数据的,表关系应该由我们的业务来决定)\n",
    "\n",
    "ORM对象关系映射 : 包含的问题广阔,包含数据的查询删除和更新.\n",
    "\n",
    "code first 创建数据的问题"
   ]
  },
  {
   "cell_type": "markdown",
   "metadata": {},
   "source": [
    "# 难点"
   ]
  },
  {
   "cell_type": "markdown",
   "metadata": {},
   "source": [
    "## flask working outside application context\n",
    "\n",
    "## flask 上下文 出入栈"
   ]
  },
  {
   "cell_type": "markdown",
   "metadata": {},
   "source": [
    "```python\n",
    "\n",
    "from flask import Flask,current_app,request,Request\n",
    "\n",
    "app = Flask(__name__) # app: <Flask 'test'>\n",
    "\n",
    "a = current_app   # a:<localProxy unbound>\n",
    "d = current_app.config['DEBUG']\n",
    "```\n",
    "\n",
    "**上下文**\n",
    "\n",
    "应用上下文 对象  Falsk\n",
    "\n",
    "请求上下文 对象  Request\n",
    "\n",
    "Flask 核心对象,注册路由,视图函数, AppContext 对Flask对象的封装(包含对象以外的内容)\n",
    "\n",
    "Request RequestContext\n",
    "\n",
    "![flask_app](./flask_app.png)\n",
    "\n",
    "\n",
    "Request Context入栈时,flask会检测_app_ctx_stack有没有应用上下文对象,如果没有的话,flask会帮你把应用上下文推入到栈中来,所以说 如果是在请求中引用current_app是不需要把app上下文推入到栈中,falsk会帮你推.\n",
    "\n",
    "\n",
    "```python\n",
    "app = Flask(__name__)\n",
    "ctx  = app.app_context()\n",
    "ctx.push()\n",
    "a = current_app\n",
    "d = current_app.config['DEBUG']\n",
    "ctx.pop()\n",
    "```\n",
    "\n",
    "```python\n",
    "\n",
    "with app.app_context():   # app_context返回一个上下文管理器 AppContext(object) 实现了__enter__和__exit__方法 push()和pop()\n",
    "    a = current_app\n",
    "    d = current_app.config['DEBUG']\n",
    "```\n",
    "\n",
    "**with 语句**\n",
    "\n",
    "对实现了上下文协议的对象使用with,\n",
    "\n",
    "上下文管理器.实现了 `__enter__ 和 __exit__ `\n",
    "\n",
    "上下文表达式返回上下文管理器\n",
    "\n",
    "1. 连接数据库  写到 `__enter__`\n",
    "2. sql ()\n",
    "3. 释放资源(释放数据库连接)  写到 `__exit__`\n",
    "try  :sql\n",
    "except\n",
    "finally 释放资源\n",
    "\n",
    "```python\n",
    "\n",
    "#文件读写\n",
    "try:\n",
    "    f = open(r'path')\n",
    "    print(f.read())\n",
    "finally:\n",
    "    f.close()\n",
    "    \n",
    "with open(r'') as f:   #open(r'')上下文表达式\n",
    "    print(f.read())\n",
    "```\n",
    "\n",
    "```python\n",
    "class A:\n",
    "    def __enter__(self):\n",
    "        a = 1\n",
    "        # return a\n",
    "    def __exit__(self):\n",
    "        b = 2\n",
    "with A() as obj_A: #obj_A 是一个空对象 是__enter__方法返回的对象 \n",
    "    pass\n",
    "```\n",
    "\n",
    "----\n",
    "```python\n",
    "class MyResource:\n",
    "    def __enter__(self):\n",
    "        print('connect to resource')\n",
    "        return self\n",
    "\n",
    "    def __exit__(self, exc_type, exc_val, exc_tb):\n",
    "        if exc_tb:\n",
    "            print('process exception')\n",
    "        else:\n",
    "            print('No exception')\n",
    "        print('close resource connection')\n",
    "        # return True\n",
    "        return False  # no return也是抛出异常\n",
    "\n",
    "    def query(self):\n",
    "        print('query data')\n",
    "\n",
    "try:\n",
    "    with MyResource() as resource:\n",
    "        1/0\n",
    "        resource.query()\n",
    "except Exception as e:\n",
    "    print('catch')\n",
    "    pass\n",
    "```\n"
   ]
  },
  {
   "cell_type": "markdown",
   "metadata": {},
   "source": [
    "# 多线程"
   ]
  },
  {
   "cell_type": "markdown",
   "metadata": {},
   "source": [
    "python不能充分利用多核cpu优势\n",
    "\n",
    "GIL全局解释器锁\n",
    "\n",
    "锁机制:    \n",
    "\n",
    "        细粒度锁: 程序员  主动加锁\n",
    "        粗粒度锁: 解释器 GIL bytecode单位执行\n",
    "\n",
    "GIL 是 cpython解释器的实现 在jpython没有实现\n",
    "\n",
    "可以开启多进程,使用进程通信技术.(难)\n",
    "\n",
    "```python\n",
    "import time\n",
    "import threading\n",
    "\n",
    "\n",
    "def worker():\n",
    "    print('I am thread')\n",
    "    t = threading.current_thread()\n",
    "    time.sleep(8)\n",
    "    print(t.getName())\n",
    "\n",
    "\n",
    "new_t = threading.Thread(target=worker, name='test_thread')\n",
    "new_t.start()\n",
    "\n",
    "\n",
    "t = threading.current_thread()\n",
    "print(t.getName())  # MainThread\n",
    "```"
   ]
  },
  {
   "cell_type": "markdown",
   "metadata": {},
   "source": [
    "**对于IO密集型的程序,多线程是有意义的**\n",
    "\n",
    "CPU密集型程序: 程序严重依赖CPU计算\n",
    "IO密集型程序: 查询数据库,请求网络资源,读写文件.\n",
    "\n",
    "IO密集型的程序的重要特征就是等待.  等待数据返回的时间可以让其他程序执行(多线程)\n"
   ]
  },
  {
   "cell_type": "markdown",
   "metadata": {},
   "source": [
    "## flask 多线程"
   ]
  },
  {
   "cell_type": "markdown",
   "metadata": {},
   "source": [
    " flask web框架\n",
    " \n",
    " flask 内置 webserver 默认以**单进程单线程**方式. (方便调试的)\n",
    " \n",
    " **线程隔离思想** : 不同的请求对应不同的线程,不同的线程在字典中隔离; request = {thread_key1:Request1,...}\n",
    " \n",
    " \n",
    "在flask中 werkzeug库 local模块 Local使用字典的方式实现了线程隔离\n",
    "\n",
    "Local是一个线程隔离对象,对Local对象的操作是相互不影响的.\n",
    "\n",
    "线程隔离对象的使用:\n",
    "\n",
    "---\n",
    "\n",
    "```python\n",
    "import threading\n",
    "import time\n",
    "from werkzeug.local import Local\n",
    "\n",
    "my_obj = Local() # 线程隔离的对象\n",
    "my_obj.b = 1\n",
    "\n",
    "\n",
    "def worker():\n",
    "    # 新线程\n",
    "    my_obj.b = 2\n",
    "    print('in new thread b is : ' + str(my_obj.b))\n",
    "\n",
    "\n",
    "new_t = threading.Thread(target=worker)\n",
    "new_t.start()\n",
    "time.sleep(1)\n",
    "\n",
    "# 主线程\n",
    "print(\"in main thread b is : \" + str(my_obj.b))\n",
    "\n",
    "#in new thread b is : 2\n",
    "#in main thread b is : 1\n",
    "```\n",
    "\n",
    "---\n",
    "\n",
    "![flask_app](./flask_app.png)\n",
    "\n",
    "---\n",
    "\n",
    "Local 可以当做一个普通对象一样,通过点来操作\n",
    "\n",
    "localStack 线程隔离的栈结构,push方法来操作来生成线性隔离对象.\n",
    "\n",
    "push,pop,top(不会删除栈顶的元素 属性)\n",
    "\n",
    "两个线程有两个栈\n",
    "\n",
    "```python\n",
    "import threading\n",
    "import time\n",
    "from werkzeug.local import Local, LocalStack\n",
    "my_stack = LocalStack()\n",
    "my_stack.push(1)\n",
    "print('in man thread after push, value is : ' + str(my_stack.top))\n",
    "\n",
    "\n",
    "def worker():\n",
    "    # 新线程\n",
    "    print('in new thread before push, value is : ' + str(my_stack.top))\n",
    "    my_stack.push(2)\n",
    "    print('in new thread after push, value is : ' + str(my_stack.top))\n",
    "\n",
    "\n",
    "new_t = threading.Thread(target=worker)\n",
    "new_t.start()\n",
    "time.sleep(1)\n",
    "\n",
    "# 主线程\n",
    "print('finally, in main thread value is : ' + str(my_stack.top))\n",
    "```\n",
    "\n",
    "线程隔离的意义: 使当前线程能够正确引用到他自己所创建的对象,而不是引用到其他线程所创建的对象."
   ]
  },
  {
   "cell_type": "markdown",
   "metadata": {},
   "source": [
    "名词:\n",
    "        \n",
    "        线程ID号作为key的字典 -> Local -> LocalStack\n",
    "        AppContext RequestContext 两个上下文 请求进来时候会被推入到 LocalStack 栈中去,请求结束时会被pop出来\n",
    "        Flask 作为AppContext的属性 Request 同样也作为RequestContext属性封装保存起来\n",
    "        current_app -> LocalStack.top(栈顶元素).app(的app属性)=Flask\n",
    "        request -> LocalStack.top.request = Request"
   ]
  },
  {
   "cell_type": "markdown",
   "metadata": {},
   "source": [
    " flask"
   ]
  }
 ],
 "metadata": {
  "kernelspec": {
   "display_name": "Python 3",
   "language": "python",
   "name": "python3"
  },
  "language_info": {
   "codemirror_mode": {
    "name": "ipython",
    "version": 3
   },
   "file_extension": ".py",
   "mimetype": "text/x-python",
   "name": "python",
   "nbconvert_exporter": "python",
   "pygments_lexer": "ipython3",
   "version": "3.6.8"
  }
 },
 "nbformat": 4,
 "nbformat_minor": 2
}
