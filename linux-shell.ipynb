{
 "cells": [
  {
   "cell_type": "markdown",
   "metadata": {},
   "source": [
    "**shell**\n",
    "\n",
    "#!/bin/bash \n",
    "\n",
    "chmod +x ./1.sh"
   ]
  },
  {
   "cell_type": "markdown",
   "metadata": {},
   "source": [
    "## Shell变量"
   ]
  },
  {
   "cell_type": "markdown",
   "metadata": {},
   "source": [
    "定义变量时，变量名**不加美元符号**\n",
    "\n",
    "使用一个**定义过的变量**，只要在变量名前面**加美元符号**\n",
    "\n",
    "变量名外面的花括号是可选的，加不加都行，加花括号是为了帮助解释器识别变量的边界\n",
    "\n",
    "使用 readonly 命令可以将变量定义为**只读变量**，只读变量的值不能被改变\n",
    "\n",
    "使用 unset 命令可以**删除变量**\n",
    "\n",
    "**单引号**里的任何字符都会原样输出，单引号字符串中的变量是无效的\n",
    "\n",
    "**双引号**里可以有变量，双引号里可以出现转义字符\n",
    "\n",
    "**拼接字符串**# 使用双引号拼接 \n",
    "> greeting=\"hello, \"$your_name\" !\"\n",
    "\n",
    "> greeting_1=\"hello, ${your_name} !\"\n",
    "\n",
    "**获取字符串长度**\n",
    "> string=\"abcd\"\n",
    "\n",
    "> echo ${#string} #输出 4\n",
    "\n",
    "**提取子字符串**\n",
    "> string=\"runoob is a great site\"\n",
    "\n",
    "> echo ${string:1:4} # 输出 unoo\n",
    "\n",
    "**查找子字符串**\n",
    "查找字符 i 或 o 的位置(哪个字母先出现就计算哪个)：\n",
    "\n",
    ">string=\"runoob is a great site\"\n",
    "\n",
    ">echo `expr index \"$string\" io`  # 输出 4\n",
    "\n",
    "用括号来表示**数组**，数组元素用\"空格\"符号分割开\n",
    "> 数组名=(值1 值2 ... 值n)\n",
    "\n",
    "**读取数组**\n",
    "> ${数组名[下标]}\n",
    "\n",
    "@ 符号可以**获取数组中的所有元素**\n",
    ">echo ${array_name[@]}\n",
    "\n",
    "**获取数组的长度**\n",
    "\n",
    "> length= $ {#array_name[@]}\n",
    "\n",
    "> length=${#array_name[*]}\n",
    "\n",
    "> #取得数组单个元素的长度\n",
    "\n",
    "> lengthn=${#array_name[n]}\n",
    "\n",
    "**注释**\n",
    "\n",
    ":<<EOF/`/!\n",
    "\n",
    "----\n",
    "\n",
    "EOF/`/!"
   ]
  },
  {
   "cell_type": "markdown",
   "metadata": {},
   "source": [
    "## Shell传递参数"
   ]
  },
  {
   "cell_type": "markdown",
   "metadata": {},
   "source": [
    "**$n**。n 代表一个数字， \n",
    "\n",
    "**$0** 文件名， $1 第一个参数...\n",
    "\n",
    "\n",
    ">$#\t传递到脚本的参数个数\n",
    "\n",
    ">\"$ *\"  以一个单字符串显示所有向脚本传递的参数。\n",
    "如\"$*\"用「\"」括起来的情况、以\"$1 $2 … $n\"的形式输出所有参数。\n",
    "\n",
    ">$$\t脚本运行的当前进程ID号\n",
    "\n",
    ">$!\t后台运行的最后一个进程的ID号\n",
    "\n",
    ">$@\t与$*相同，但是使用时加引号，并在引号中返回每个参数。\n",
    "如\"$@\"用「\"」括起来的情况、以\"$1\" \"$2\" … \"$n\" 的形式输出所有参数。\n",
    "\n",
    ">$-\t显示Shell使用的当前选项，与set命令功能相同。\n",
    "\n",
    ">$?\t显示最后命令的退出状态。0表示没有错误，其他任何值表明有错误。"
   ]
  },
  {
   "cell_type": "markdown",
   "metadata": {},
   "source": [
    "# Shell运算符"
   ]
  },
  {
   "cell_type": "markdown",
   "metadata": {},
   "source": [
    "val= `expr 2 + 2` \n",
    "\n",
    "**关系运算符**\n",
    "![1](./photo/关系运算.png)\n",
    "**布尔运算符**\n",
    "![2](./photo/布尔运算.png)\n",
    "**逻辑运算符**\n",
    "![3](./photo/逻辑运算.png)\n",
    "**字符串运算符**\n",
    "![5](./photo/字符串.png)\n",
    "**文件测试运算符**\n",
    "![6](./photo/文件.png)"
   ]
  },
  {
   "cell_type": "markdown",
   "metadata": {},
   "source": [
    "# echo"
   ]
  },
  {
   "cell_type": "markdown",
   "metadata": {},
   "source": [
    "**1.显示普通字符串:**\n",
    "\n",
    "`echo \"It is a test\"`\n",
    "\n",
    "这里的双引号完全可以省略，以下命令与上面实例效果一致：\n",
    "\n",
    "`echo It is a test`\n",
    "\n",
    "**2.显示转义字符**\n",
    "\n",
    "`echo \"\\\"It is a test\\\"\"`\n",
    "\n",
    "结果将是: \"It is a test\"\n",
    "同样，双引号也可以省略\n",
    "\n",
    "**3.显示变量**\n",
    "\n",
    "read 命令从标准输入中读取一行,并把输入行的每个字段的值指定给 shell 变量\n",
    "`\n",
    "#!/bin/sh\n",
    "read name \n",
    "echo \"$name It is a test\"`\n",
    "\n",
    "[root@www ~]# sh test.sh\n",
    "\n",
    "OK                     #标准输入\n",
    "\n",
    "OK It is a test        #输出\n",
    "\n",
    "**4.显示换行**\n",
    "\n",
    "`echo -e \"OK! \\n\" # -e 开启转义\n",
    "echo \"It is a test\"`\n",
    "\n",
    "输出结果：\n",
    "\n",
    "OK!\n",
    "\n",
    "It is a test\n",
    "\n",
    "**5.显示不换行**\n",
    "\n",
    "`#!/bin/sh\n",
    "echo -e \"OK! \\c\" # -e 开启转义 \\c 不换行\n",
    "echo \"It is a test\"`\n",
    "\n",
    "输出结果：\n",
    "\n",
    "OK! It is a test\n",
    "\n",
    "**6.显示结果定向至文件**\n",
    "\n",
    "`echo \"It is a test\" > myfile`\n",
    "\n",
    "**7.原样输出字符串，不进行转义或取变量(用单引号)**\n",
    "\n",
    "`echo '$name\\\"'`\n",
    "\n",
    "输出结果：\n",
    "\n",
    "$name\\\"\n",
    "\n",
    "**8.显示命令执行结果**\n",
    "\n",
    "echo `date`\n",
    "\n",
    "注意： 这里使用的是反引号 `, 而不是单引号 '。\n",
    "\n",
    "结果将显示当前日期\n",
    "\n",
    "Thu Jul 24 10:08:46 CST 2014"
   ]
  },
  {
   "cell_type": "markdown",
   "metadata": {},
   "source": [
    "# printf"
   ]
  },
  {
   "cell_type": "markdown",
   "metadata": {},
   "source": [
    "printf  format-string  [arguments...]\n",
    "\n",
    "- format-string: 为格式控制字符串\n",
    "- arguments: 为参数列表。\n",
    "\n",
    "printf \"%-10s %-8s %-4.2f\\n\" 郭芙 女 47.9876 \n",
    "\n",
    "郭芙     女      47.99\n",
    "\n",
    "![10](./photo/转义序列.png)"
   ]
  },
  {
   "cell_type": "markdown",
   "metadata": {},
   "source": [
    "# test"
   ]
  },
  {
   "cell_type": "markdown",
   "metadata": {},
   "source": [
    "test 命令用于检查某个条件是否成立，它可以进行数值、字符和文件三个方面的测试\n",
    "\n",
    "if test` $[num1]` -eq `$[num2]` **数值测试**\n",
    "\n",
    "if test `$num1` = `$num2` **字符串测试**\n",
    "\n",
    "if test -e ./bash **文件测试**"
   ]
  },
  {
   "cell_type": "markdown",
   "metadata": {},
   "source": [
    "# 流程控制"
   ]
  },
  {
   "cell_type": "markdown",
   "metadata": {},
   "source": [
    "### if\n",
    "`if condition \n",
    "then\n",
    "    command1 \n",
    "    command2\n",
    "    ...\n",
    "    commandN \n",
    "fi`\n",
    "\n",
    "`\n",
    "if condition1\n",
    "then\n",
    "    command1\n",
    "elif condition2 \n",
    "then \n",
    "    command2\n",
    "else\n",
    "    commandN\n",
    "fi`\n",
    "\n",
    "### for\n",
    "`\n",
    "for var in item1 item2 ... itemN\n",
    "do\n",
    "    command1\n",
    "    command2\n",
    "    ...\n",
    "    commandN\n",
    "done`\n",
    "\n",
    "### while\n",
    "`while condition\n",
    "do\n",
    "    command\n",
    "done`\n",
    "\n",
    "### case\n",
    "`\n",
    "case 值 in\n",
    "模式1)\n",
    "    command1\n",
    "    command2\n",
    "    ...\n",
    "    commandN\n",
    "    ;;\n",
    "模式2）\n",
    "    command1\n",
    "    command2\n",
    "    ...\n",
    "    commandN\n",
    "    ;;\n",
    "esac`\n",
    "\n",
    "**break**命令允许跳出所有循环（终止执行后面的所有循环）。\n",
    "\n",
    "**continue**命令与break命令类似，只有一点差别，它不会跳出所有循环，仅仅跳出当前循环。\n",
    "\n",
    "**case**的语法和C family语言差别很大，它需要一个esac（就是case反过来）作为结束标记，每个case分支用右圆括号，用两个分号表示break。"
   ]
  },
  {
   "cell_type": "markdown",
   "metadata": {},
   "source": [
    "# 函数"
   ]
  },
  {
   "cell_type": "markdown",
   "metadata": {},
   "source": [
    "`\n",
    "function demoFun1(){\n",
    "    echo \"这是我的第一个 shell 函数!\"\n",
    "    return `expr 1 + 1`\n",
    "}\n",
    "`\n",
    "\n",
    "demoFun1  函数调用\n",
    "\n",
    "echo $?  函数返回值在调用函数后通过`$?`获得\n",
    "\n",
    "`$?` 仅对其上一条指令负责，一旦函数返回后其返回值没有立即保存入参数，那么其返回值将不再能通过 `$?` 获得``$?` 仅对其上一条指令负责，一旦函数返回后其返回值没有立即保存入参数，那么其返回值将不再能通过 `$?` 获得。"
   ]
  },
  {
   "cell_type": "markdown",
   "metadata": {},
   "source": [
    "# 输入输出重定向"
   ]
  },
  {
   "cell_type": "markdown",
   "metadata": {},
   "source": [
    "![12](./photo/重定向.png)\n",
    "\n",
    "**/dev/null文件**"
   ]
  },
  {
   "cell_type": "markdown",
   "metadata": {},
   "source": [
    "# 文件包含"
   ]
  },
  {
   "cell_type": "markdown",
   "metadata": {},
   "source": [
    "`. filename   # 注意点号(.)和文件名中间有一空格\n",
    "或\n",
    "source filename`"
   ]
  }
 ],
 "metadata": {
  "kernelspec": {
   "display_name": "Python 3",
   "language": "python",
   "name": "python3"
  },
  "language_info": {
   "codemirror_mode": {
    "name": "ipython",
    "version": 3
   },
   "file_extension": ".py",
   "mimetype": "text/x-python",
   "name": "python",
   "nbconvert_exporter": "python",
   "pygments_lexer": "ipython3",
   "version": "3.6.8"
  }
 },
 "nbformat": 4,
 "nbformat_minor": 2
}
